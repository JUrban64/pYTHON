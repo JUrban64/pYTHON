{
 "cells": [
  {
   "cell_type": "markdown",
   "metadata": {},
   "source": [
    "V Pythonu termín **default dicts** (defaultdict) označuje speciální typ slovníku z modulu `collections`, který automaticky přiřazuje výchozí hodnotu novým klíčům, pokud klíč není ve slovníku přítomen. Standardní slovníky v Pythonu vyvolají chybu `KeyError`, pokud se pokusíte přistoupit k neexistujícímu klíči. Na rozdíl od toho `defaultdict` vrací výchozí hodnotu, kterou si můžete nadefinovat.\n",
    "\n",
    "Tady je příklad použití:\n",
    "\n",
    "```python\n",
    "from collections import defaultdict\n",
    "\n",
    "# Funkce, která nastaví výchozí hodnotu, např. 0\n",
    "d = defaultdict(int)\n",
    "\n",
    "# Přidáme hodnoty do defaultdict\n",
    "d['jablka'] += 1\n",
    "d['banány'] += 2\n",
    "\n",
    "# Vytiskneme výsledky\n",
    "print(d)  # defaultdict(<class 'int'>, {'jablka': 1, 'banány': 2})\n",
    "\n",
    "# Přistoupíme k neexistujícímu klíči\n",
    "print(d['hrušky'])  # Vrátí 0 místo KeyError\n",
    "```\n",
    "\n",
    "V tomto příkladu jsme vytvořili `defaultdict`, který přiřazuje výchozí hodnotu `0` všem novým klíčům. Když přistoupíme k neexistujícímu klíči, `defaultdict` automaticky vrátí tuto výchozí hodnotu místo vyvolání chyby."
   ]
  },
  {
   "cell_type": "code",
   "execution_count": 1,
   "metadata": {},
   "outputs": [
    {
     "name": "stdout",
     "output_type": "stream",
     "text": [
      "True\n"
     ]
    }
   ],
   "source": [
    "text = \" ahoj svete Jak se mas?  A\" \n",
    "\n",
    "x = \"a\" in text\n",
    "print(x)"
   ]
  },
  {
   "cell_type": "code",
   "execution_count": 2,
   "metadata": {},
   "outputs": [
    {
     "name": "stdout",
     "output_type": "stream",
     "text": [
      "2\n"
     ]
    }
   ],
   "source": [
    "a = 5//2 \n",
    "print(a)"
   ]
  },
  {
   "cell_type": "code",
   "execution_count": 3,
   "metadata": {},
   "outputs": [
    {
     "name": "stdout",
     "output_type": "stream",
     "text": [
      "[4, 5, 6]\n"
     ]
    }
   ],
   "source": [
    "xs = [1, [2, 3], [4, 5, 6], [7, 8, 9, 0],]\n",
    "\n",
    "print(xs.pop(2))"
   ]
  },
  {
   "cell_type": "code",
   "execution_count": 4,
   "metadata": {},
   "outputs": [
    {
     "name": "stdout",
     "output_type": "stream",
     "text": [
      "19\n",
      "13\n",
      "12\n",
      "10\n",
      "5\n",
      "19\n",
      "13\n",
      "8\n"
     ]
    }
   ],
   "source": [
    "xs = \"Třistatřiatřicet stříbrných stříkaček stříkalo přes třistatřiatřicet stříbrných střech.\"\n",
    "\n",
    "for x in xs.split():\n",
    "    print(len(x))"
   ]
  },
  {
   "cell_type": "code",
   "execution_count": 5,
   "metadata": {},
   "outputs": [
    {
     "data": {
      "text/plain": [
       "['555', '777', '999']"
      ]
     },
     "execution_count": 5,
     "metadata": {},
     "output_type": "execute_result"
    }
   ],
   "source": [
    "xs = range(5, 11, 2)\n",
    "[str(x)*3 for x in xs]"
   ]
  },
  {
   "cell_type": "code",
   "execution_count": 9,
   "metadata": {},
   "outputs": [
    {
     "name": "stdout",
     "output_type": "stream",
     "text": [
      "dd\n",
      "vv\n",
      "ee\n",
      "̌̌\n"
     ]
    }
   ],
   "source": [
    "xs = {1: 'jedna', 2: 'dvě', 3: 'tři', 4: 'čtyři', }\n",
    "\n",
    "for x in xs[2]: \n",
    "    print(2*x)"
   ]
  },
  {
   "cell_type": "code",
   "execution_count": 12,
   "metadata": {},
   "outputs": [
    {
     "name": "stdout",
     "output_type": "stream",
     "text": [
      "['Bořek', 'Jarda', 'Jirka', 'Pavel', 'Petr', 'Tonda']\n"
     ]
    }
   ],
   "source": [
    "xs = ['Petr', 'Pavel', 'Jirka', 'Jarda', 'Bořek', 'Tonda', ]\n",
    "ys = sorted(xs, reverse=False)\n",
    "print(ys)"
   ]
  },
  {
   "cell_type": "code",
   "execution_count": 14,
   "metadata": {},
   "outputs": [
    {
     "name": "stdout",
     "output_type": "stream",
     "text": [
      "[1, 2, 3, 4, 5, 6, 7, 8, 9, 10]\n"
     ]
    }
   ],
   "source": [
    "k = [1, 2, 3, 4, 5, 6, 7, 8, 9, 10]\n",
    "ys = sorted(k,) \n",
    "print(ys)"
   ]
  },
  {
   "cell_type": "code",
   "execution_count": null,
   "metadata": {},
   "outputs": [],
   "source": []
  }
 ],
 "metadata": {
  "kernelspec": {
   "display_name": "Python 3",
   "language": "python",
   "name": "python3"
  },
  "language_info": {
   "codemirror_mode": {
    "name": "ipython",
    "version": 3
   },
   "file_extension": ".py",
   "mimetype": "text/x-python",
   "name": "python",
   "nbconvert_exporter": "python",
   "pygments_lexer": "ipython3",
   "version": "3.12.3"
  }
 },
 "nbformat": 4,
 "nbformat_minor": 2
}
