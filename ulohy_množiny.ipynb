{
 "cells": [
  {
   "cell_type": "markdown",
   "metadata": {},
   "source": [
    " Zopakujte si předchozí analýzu na větším textu, ale tentokrát hledejte různá slova. Přitom postupně:\n",
    "uvažujte rozdíly mezi malými a velkými písmeny\n",
    "neuvažujte rozdíly mezi malými a velkými písmeny (tj. Auto = auto apod.)\n",
    "odstraňte interpunkci (tj. auto, = auto apod.)"
   ]
  },
  {
   "cell_type": "code",
   "execution_count": null,
   "metadata": {},
   "outputs": [],
   "source": [
    "text = ()\n",
    "with open(\"/Users/jachymurban/Desktop/Pthonadre/zvu.txt\", \"r\", encoding=\"utf-8\") as file1: \n",
    "    text = file1.read().split()\n",
    "\n",
    "set(text)\n"
   ]
  },
  {
   "cell_type": "markdown",
   "metadata": {},
   "source": [
    "Proveďte předchozí analýzu pro dva různé texty a porovnejte výsledky následujícím způsobem:\n",
    "zjistěte, která slova se vyskytují v obou textech\n",
    "vytvořte množinu všech slov, která je možno v uvedených textech najít\n",
    "najděte slova, která obsahuje pouze první text a která obsahuje pouze druhý text\n",
    "vytvořte množinu slov, která oba texty nemají společná\n",
    "\n"
   ]
  },
  {
   "cell_type": "code",
   "execution_count": 34,
   "metadata": {},
   "outputs": [
    {
     "name": "stdout",
     "output_type": "stream",
     "text": [
      "{'jsme', 'Nakonec', 'se', 's', 'na', 'zmrzlinu.', 'o', 'rozhodli', 'do'}\n",
      "{'a', 'kamarády.', 'parku,', 'jsem', 'setkal', 'Včera', 'užívali', 'zajít', 'si', 'Povídali', 'počasí.', 'šel', 'kde', 'slunečné', 'víkendových', 'plánech'}\n",
      "{'týden', 'parku', 'co', 'šli', 'během', 'přáteli.', 'tom,', 'Minulý', 'víkendu,', 'zastavit', 'Diskutovali', 'lavičce.', 'dělat', 'seděli', 'zatímco', 'budeme'}\n",
      "{'a', 'týden', 'parku', 'parku,', 'jsem', 'zajít', 'si', 'Povídali', 'počasí.', 'víkendu,', 'Diskutovali', 'kde', 'šel', 'slunečné', 'víkendových', 'dělat', 'seděli', 'zatímco', 'kamarády.', 'co', 'setkal', 'šli', 'Včera', 'užívali', 'během', 'přáteli.', 'tom,', 'Minulý', 'zastavit', 'lavičce.', 'plánech', 'budeme'}\n",
      "todle jsou sym_diff taky {'parku', 'jsem', 'si', 'Povídali', 'víkendu,', 'počasí.', 'kde', 'slunečné', 'víkendových', 'kamarády.', 'setkal', 'Včera', 'během', 'užívali', 'lavičce.', 'plánech', 'týden', 'a', 'parku,', 'zajít', 'Diskutovali', 'šel', 'dělat', 'seděli', 'zatímco', 'co', 'šli', 'přáteli.', 'tom,', 'Minulý', 'zastavit', 'budeme'}\n",
      "notrue\n",
      "notrue\n",
      "notrue\n",
      "notrue\n",
      "notrue\n",
      "notrue\n",
      "notrue\n",
      "notrue\n",
      "notrue\n",
      "notrue\n",
      "notrue\n",
      "notrue\n",
      "notrue\n",
      "notrue\n",
      "notrue\n",
      "notrue\n",
      "notrue\n",
      "notrue\n",
      "notrue\n",
      "notrue\n",
      "notrue\n",
      "notrue\n",
      "notrue\n",
      "notrue\n",
      "notrue\n",
      "notrue\n",
      "notrue\n",
      "notrue\n",
      "notrue\n",
      "notrue\n",
      "notrue\n",
      "notrue\n"
     ]
    }
   ],
   "source": [
    "text1 = \"Včera jsem šel do parku, kde jsem se setkal s kamarády. Povídali jsme si o víkendových plánech a užívali si slunečné počasí. Nakonec jsme se rozhodli zajít na zmrzlinu.\"\n",
    "\n",
    "text2= \"Minulý týden jsme šli do parku s přáteli. Diskutovali jsme o tom, co budeme dělat během víkendu, zatímco jsme seděli na lavičce. Nakonec jsme se rozhodli zastavit na zmrzlinu.\"\n",
    "\n",
    "\n",
    "po_slov1 = text1.split()\n",
    "po_slov2 = text2.split()\n",
    "\n",
    "slova_1 = set(po_slov1)\n",
    "slova_2 = set(po_slov2)\n",
    "\n",
    "stejna_slova =slova_1.intersection(slova_2)\n",
    "print(stejna_slova)\n",
    "\n",
    "dif_word1 = slova_1.difference(slova_2)\n",
    "dif_word2 = slova_2.difference(slova_1)\n",
    "\n",
    "print(dif_word1)\n",
    "print(dif_word2)\n",
    "\n",
    "\n",
    "slova_nespolečná = dif_word1.union(dif_word2) ## na todle stačil symetericky rozdil \n",
    "\n",
    "print(slova_nespolečná)\n",
    "\n",
    "sym_dif = slova_1.symmetric_difference(slova_2)\n",
    "\n",
    "print(f\"todle jsou sym_diff taky {sym_dif}\")\n"
   ]
  },
  {
   "cell_type": "markdown",
   "metadata": {},
   "source": [
    " Ještě jednou zanalyzujte text na výskyt slov, tentokrát se ale ptejte po tom, jak různě dlouhá slova se v textu vyskytují."
   ]
  },
  {
   "cell_type": "code",
   "execution_count": 35,
   "metadata": {},
   "outputs": [
    {
     "name": "stdout",
     "output_type": "stream",
     "text": [
      "[5, 4, 3, 2, 6, 3, 4, 2, 6, 1, 9, 8, 4, 2, 1, 11, 7, 1, 7, 2, 8, 7, 7, 4, 2, 8, 5, 2, 9]\n"
     ]
    }
   ],
   "source": [
    "text1 = \"Včera jsem šel do parku, kde jsem se setkal s kamarády. Povídali jsme si o víkendových plánech a užívali si slunečné počasí. Nakonec jsme se rozhodli zajít na zmrzlinu.\"\n",
    "\n",
    "po_Slov = text1.split()\n",
    "xs = []\n",
    "for slova in po_Slov: \n",
    "    delka = len(slova)\n",
    "    xs.append(delka)\n",
    "\n",
    "print(xs)\n"
   ]
  },
  {
   "cell_type": "markdown",
   "metadata": {},
   "source": [
    "Ze zadané věty vyextrahujte množinu v ní obsažených slov. Prvky množiny budou n-tice, jejichž prvním prvkem budou jednotlivá slova z textu a druhým počet jejich výskytů v textu."
   ]
  },
  {
   "cell_type": "code",
   "execution_count": 49,
   "metadata": {},
   "outputs": [
    {
     "name": "stdout",
     "output_type": "stream",
     "text": [
      "{('Včera', 1)}\n",
      "{('jsem', 2)}\n",
      "{('šel', 1)}\n",
      "{('do', 2)}\n",
      "{('parku,', 1)}\n",
      "{('kde', 1)}\n",
      "{('jsem', 2)}\n",
      "{('se', 5)}\n",
      "{('setkal', 1)}\n",
      "{('s', 12)}\n",
      "{('kamarády.', 1)}\n",
      "{('Povídali', 1)}\n",
      "{('jsme', 2)}\n",
      "{('si', 2)}\n",
      "{('o', 8)}\n",
      "{('víkendových', 1)}\n",
      "{('plánech', 1)}\n",
      "{('a', 12)}\n",
      "{('užívali', 1)}\n",
      "{('si', 2)}\n",
      "{('slunečné', 1)}\n",
      "{('počasí.', 1)}\n",
      "{('Nakonec', 1)}\n",
      "{('jsme', 2)}\n",
      "{('se', 5)}\n",
      "{('rozhodli', 1)}\n",
      "{('zajít', 1)}\n",
      "{('na', 1)}\n",
      "{('zmrzlinu.', 1)}\n",
      "{('si', 2), ('jsem', 2), ('parku,', 1), ('s', 12), ('a', 12), ('jsme', 2), ('zajít', 1), ('zmrzlinu.', 1), ('víkendových', 1), ('užívali', 1), ('rozhodli', 1), ('plánech', 1), ('Povídali', 1), ('se', 5), ('Včera', 1), ('počasí.', 1), ('o', 8), ('kamarády.', 1), ('Nakonec', 1), ('kde', 1), ('slunečné', 1), ('na', 1), ('šel', 1), ('setkal', 1), ('do', 2)}\n"
     ]
    }
   ],
   "source": [
    "text3 = \"Včera jsem šel do parku, kde jsem se setkal s kamarády. Povídali jsme si o víkendových plánech a užívali si slunečné počasí. Nakonec jsme se rozhodli zajít na zmrzlinu.\"\n",
    "\n",
    "\n",
    "for slova in text3.split(): \n",
    "    em_mn = {(slova, text3.count(slova))}\n",
    "    print(em_mn)\n",
    "\n",
    "\n",
    "mnozinaN_ntic = {(slova, text3.count(slova)) for slova in text3.split()}\n",
    "\n",
    "print(mnozinaN_ntic)"
   ]
  },
  {
   "cell_type": "markdown",
   "metadata": {},
   "source": [
    "it just works "
   ]
  },
  {
   "cell_type": "code",
   "execution_count": null,
   "metadata": {},
   "outputs": [],
   "source": []
  }
 ],
 "metadata": {
  "kernelspec": {
   "display_name": "Python 3",
   "language": "python",
   "name": "python3"
  },
  "language_info": {
   "codemirror_mode": {
    "name": "ipython",
    "version": 3
   },
   "file_extension": ".py",
   "mimetype": "text/x-python",
   "name": "python",
   "nbconvert_exporter": "python",
   "pygments_lexer": "ipython3",
   "version": "3.12.3"
  }
 },
 "nbformat": 4,
 "nbformat_minor": 2
}
