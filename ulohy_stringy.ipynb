{
 "cells": [
  {
   "cell_type": "markdown",
   "metadata": {},
   "source": [
    " Vypište všechny znaky z řetězce a pokud jsou alfabetické, přidejte ještě 'souhláska' nebo 'samohláska', podle toho, co je daný znak zač.\n",
    "\n"
   ]
  },
  {
   "cell_type": "code",
   "execution_count": 7,
   "metadata": {},
   "outputs": [
    {
     "name": "stdout",
     "output_type": "stream",
     "text": [
      "m, souhlláska\n",
      "a, samohlaska\n",
      "m, souhlláska\n",
      "a, samohlaska\n",
      "je to mezera\n",
      "m, souhlláska\n",
      "e, samohlaska\n",
      "l, souhlláska\n",
      "e, samohlaska\n",
      "je to mezera\n",
      "m, souhlláska\n",
      "a, samohlaska\n",
      "s, souhlláska\n",
      "o, samohlaska\n"
     ]
    }
   ],
   "source": [
    "text = \"mama mele maso\"\n",
    "\n",
    "\n",
    "samohlaska = [\"a\",\"e\", \"i\", \"o\", \"u\"]\n",
    "\n",
    "for i in text: \n",
    "    if i in samohlaska and i.isalpha():\n",
    "        print(f\"{i}, samohlaska\")\n",
    "    elif i.isalpha():\n",
    "        print(f\"{i}, souhlláska\")\n",
    "    else: \n",
    "        print(\"je to mezera\")\n",
    "    "
   ]
  },
  {
   "cell_type": "code",
   "execution_count": 35,
   "metadata": {},
   "outputs": [
    {
     "name": "stdout",
     "output_type": "stream",
     "text": [
      "4\n",
      "2.0\n",
      "a\n",
      "n\n"
     ]
    }
   ],
   "source": [
    "text = \"anna\"\n",
    "print(len(text))\n",
    "print(len(text)/2)\n",
    "polovina_delky = len(text)/2\n",
    "\n",
    "for i in text[:int(polovina_delky)]:\n",
    "    print(i)\n",
    "\n",
    "\n",
    "\n",
    "\n"
   ]
  },
  {
   "cell_type": "markdown",
   "metadata": {},
   "source": [
    "### dobře funguje \n"
   ]
  },
  {
   "cell_type": "code",
   "execution_count": 41,
   "metadata": {},
   "outputs": [
    {
     "data": {
      "text/plain": [
       "'lo'"
      ]
     },
     "execution_count": 41,
     "metadata": {},
     "output_type": "execute_result"
    }
   ],
   "source": [
    "def prin_hlaf(str):\n",
    "     return str[:int(len(str))//2]\n",
    "     \n",
    "\n",
    "sds = \"lolo\"\n",
    "\n",
    "prin_hlaf(sds)"
   ]
  },
  {
   "cell_type": "markdown",
   "metadata": {},
   "source": [
    "vRACÍ zpátky string a ne jenom vypisuje \n"
   ]
  },
  {
   "cell_type": "markdown",
   "metadata": {},
   "source": [
    " Napište program, který vypíše část řetězce před prvním výskytem písmene „m“\n",
    " "
   ]
  },
  {
   "cell_type": "code",
   "execution_count": 62,
   "metadata": {},
   "outputs": [
    {
     "name": "stdout",
     "output_type": "stream",
     "text": [
      "ask\n"
     ]
    }
   ],
   "source": [
    "txt = \"askm\" \n",
    "\n",
    "for pozice, i in enumerate(txt): \n",
    "    if i == \"m\": \n",
    "        k = pozice\n",
    "\n",
    "print(txt[:k])\n",
    "\n",
    "\n",
    "        "
   ]
  },
  {
   "cell_type": "markdown",
   "metadata": {},
   "source": [
    "napište program, kterýy vypíše výskyt počtu pismena a "
   ]
  },
  {
   "cell_type": "code",
   "execution_count": 55,
   "metadata": {},
   "outputs": [
    {
     "name": "stdout",
     "output_type": "stream",
     "text": [
      " počet aček v txtu je: 3\n"
     ]
    }
   ],
   "source": [
    "txt = \"anakonda\"\n",
    "count = 0\n",
    "for i in txt: \n",
    "    if i == \"a\":\n",
    "        count +=1 \n",
    "    else: \n",
    "        count += 0\n",
    "print(f\" počet aček v txtu je: {count}\")"
   ]
  },
  {
   "cell_type": "markdown",
   "metadata": {},
   "source": [
    "Napište program, který z řetězce zadaného jako první argument vypíše tu část, která předchází prvnímu výskytu znaku zadaného jako druhý argument.\n",
    "f(\"hello\",\"l\") → \"he\"\n",
    "f(\"hello\",\"o\") → \"hell\""
   ]
  },
  {
   "cell_type": "code",
   "execution_count": 66,
   "metadata": {},
   "outputs": [
    {
     "name": "stdout",
     "output_type": "stream",
     "text": [
      "Do you have time? a\n",
      "Do you h\n"
     ]
    }
   ],
   "source": [
    "def string_until_letter(text, letter):\n",
    "  if letter in text:\n",
    "    return text[:text.index(letter)]\n",
    "  else:\n",
    "    return text\n",
    " \n",
    "# ukázkové zadání\n",
    "txt = \"Do you have time?\"\n",
    "ch = \"a\"\n",
    "print(txt, ch)\n",
    "print( string_until_letter(txt, ch) )\n",
    "\n",
    "\n"
   ]
  },
  {
   "cell_type": "markdown",
   "metadata": {},
   "source": [
    "### moc jsem nepobral co tim autor myslel \n"
   ]
  },
  {
   "cell_type": "markdown",
   "metadata": {},
   "source": [
    "Reimplementujtr count, pro jeden znak "
   ]
  },
  {
   "cell_type": "code",
   "execution_count": 69,
   "metadata": {},
   "outputs": [
    {
     "data": {
      "text/plain": [
       "2"
      ]
     },
     "execution_count": 69,
     "metadata": {},
     "output_type": "execute_result"
    }
   ],
   "source": [
    "txt = \"papapir\"\n",
    "\n",
    "def cunt_syms(str, sym):\n",
    "    count = 0\n",
    "    for i in str: \n",
    "        if i == sym: \n",
    "            count += 1 \n",
    "    return count\n",
    "\n",
    "cunt_syms(txt,\"a\")"
   ]
  },
  {
   "cell_type": "markdown",
   "metadata": {},
   "source": [
    "reimplementuj count pro vetší znaky "
   ]
  },
  {
   "cell_type": "code",
   "execution_count": 99,
   "metadata": {},
   "outputs": [
    {
     "name": "stdout",
     "output_type": "stream",
     "text": [
      "1\n"
     ]
    }
   ],
   "source": [
    "## proč předchozí kod nefunguje pro i+1 znak ? \n",
    " #prorože to ta smyčka háže po jednom \n",
    "\n",
    "# znamenáček \n",
    "\n",
    "text = \"ako ako se máš\"\n",
    "\n",
    "delka_text = len(text)\n",
    "\n",
    "slov = \"se\"\n",
    "\n",
    "len_slovo = len(slov)\n",
    "\n",
    "\n",
    "count = 0 \n",
    "\n",
    "for i in range(delka_text): ## i postupně projede od <0,len(textu) \n",
    "    if text[i:i + len_slovo] == slov: # hledá slova od 0 do přesné delky slova, což\n",
    "        count += 1 \n",
    "\n",
    "print(count)\n",
    "\n",
    "\n"
   ]
  },
  {
   "cell_type": "markdown",
   "metadata": {},
   "source": [
    "Zde je bodová sumarizace kódu:\n",
    "\n",
    "1. **Definování textu**:\n",
    "   - Řetězec `text = \"ako ako se máš\"` představuje text, ve kterém hledáme výskyt podřetězce.\n",
    "\n",
    "2. **Výpočet délky textu**:\n",
    "   - Proměnná `delka_text = len(text)` obsahuje počet znaků v textu (včetně mezer), v tomto případě 14.\n",
    "\n",
    "3. **Definování hledaného podřetězce**:\n",
    "   - Proměnná `slov = \"se\"` obsahuje hledaný podřetězec.\n",
    "\n",
    "4. **Výpočet délky hledaného podřetězce**:\n",
    "   - Proměnná `len_slovo = len(slov)` obsahuje délku hledaného podřetězce, v tomto případě 2.\n",
    "\n",
    "5. **Inicializace počítadla výskytů**:\n",
    "   - `count = 0` nastavuje počítadlo výskytů podřetězce na 0.\n",
    "\n",
    "6. **Iterace přes text**:\n",
    "   - Cyklus `for i in range(delka_text)` prochází každý znak v textu od indexu 0 po poslední index.\n",
    "\n",
    "7. **Výběr podřetězce a kontrola**:\n",
    "   - Pomocí `text[i:i + len_slovo]` vybíráme část textu o délce hledaného podřetězce (2 znaky) a porovnáváme ji s hledaným slovem `slov`.\n",
    "\n",
    "8. **Zvýšení počítadla**:\n",
    "   - Pokud se podřetězec shoduje s hledaným slovem, podmínka `if` je splněna a počítadlo `count` se zvýší o 1.\n",
    "\n",
    "9. **Výstup počtu výskytů**:\n",
    "   - Nakonec se pomocí `print(count)` vytiskne počet výskytů hledaného podřetězce v textu (v tomto případě 1)."
   ]
  },
  {
   "cell_type": "markdown",
   "metadata": {},
   "source": [
    "### Ze zadané věty vytvořte novou větu s opačným pořadím slov."
   ]
  },
  {
   "cell_type": "code",
   "execution_count": 119,
   "metadata": {},
   "outputs": [
    {
     "name": "stdout",
     "output_type": "stream",
     "text": [
      "strong kong\n"
     ]
    }
   ],
   "source": [
    "pp = \"kong strong\"\n",
    "\n",
    "np =pp.split() #[kong, strong ]\n",
    " # [strong, kong ]\n",
    "np.reverse()\n",
    "\n",
    "result = \" \".join(np)\n",
    "print(result)"
   ]
  },
  {
   "cell_type": "code",
   "execution_count": 120,
   "metadata": {},
   "outputs": [
    {
     "data": {
      "text/plain": [
       "'vetu tuhle obrat'"
      ]
     },
     "execution_count": 120,
     "metadata": {},
     "output_type": "execute_result"
    }
   ],
   "source": [
    "## to samé napsané jako funkce \n",
    "\n",
    "\n",
    "def rev_por(string): \n",
    "    #uděla list \n",
    "    str2list = string.split()\n",
    "    str2list.reverse()\n",
    "    res = \" \". join(str2list)\n",
    "    return res \n",
    "\n",
    "test = \"obrat tuhle vetu\"\n",
    "\n",
    "rev_por(test)"
   ]
  },
  {
   "cell_type": "code",
   "execution_count": null,
   "metadata": {},
   "outputs": [],
   "source": []
  }
 ],
 "metadata": {
  "kernelspec": {
   "display_name": "Python 3",
   "language": "python",
   "name": "python3"
  },
  "language_info": {
   "name": "python",
   "version": "3.12.3"
  }
 },
 "nbformat": 4,
 "nbformat_minor": 2
}
