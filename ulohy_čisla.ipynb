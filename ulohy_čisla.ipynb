{
 "cells": [
  {
   "cell_type": "markdown",
   "metadata": {},
   "source": [
    "Vypiště všechny čísla mezi 2 a 100, který jsou bud dělitelná 3 nebo 7 "
   ]
  },
  {
   "cell_type": "code",
   "execution_count": null,
   "metadata": {},
   "outputs": [],
   "source": [
    "for i in range(2,101): \n",
    "    if i % 3 == 0 or i % 7 == 0:\n",
    "        print(i)\n",
    "    "
   ]
  },
  {
   "cell_type": "markdown",
   "metadata": {},
   "source": [
    "Upravte předchozí program, aby vypisoval čísla, která jsou dělitelná 3 nebo 7, ale ne oběma najednou."
   ]
  },
  {
   "cell_type": "code",
   "execution_count": null,
   "metadata": {},
   "outputs": [],
   "source": [
    "# Michal Obergruber\n",
    " \n",
    "for i in range(2, 101):\n",
    "    if (i % 3 == 0 and i % 7 != 0) or (i % 3 != 0 and i % 7 == 0):\n",
    "        print(i)\n",
    "    "
   ]
  },
  {
   "cell_type": "markdown",
   "metadata": {},
   "source": [
    "Vypište všechny prvočísla "
   ]
  },
  {
   "cell_type": "code",
   "execution_count": null,
   "metadata": {},
   "outputs": [],
   "source": [
    "for i in range(2, 101):  # Testujeme čísla od 2 do 7\n",
    "    is_prime = True    # Předpokládáme, že číslo je prvočíslo\n",
    "    for j in range(2, i):  # Testujeme dělitelnost čísly od 2 do (i-1)\n",
    "        if i % j == 0:     # Pokud je dělitelné, není prvočíslo\n",
    "            is_prime = False\n",
    "            break          # Přerušíme cyklus, protože už víme, že není prvočíslo\n",
    "    if is_prime:           # Pokud zůstalo `True`, je to prvočíslo\n",
    "        print(i)\n",
    "\n"
   ]
  },
  {
   "cell_type": "markdown",
   "metadata": {},
   "source": [
    "„Implementujte“ umocňování celočíselným exponentem, tj. předpokládejte, že nemáte k dispozici operaci umocňování **, ale pouze základní matematické operace +-*/. Zkuste to vyřešit na méně než (n-1) násobení\n"
   ]
  },
  {
   "cell_type": "code",
   "execution_count": 63,
   "metadata": {},
   "outputs": [
    {
     "data": {
      "text/plain": [
       "100"
      ]
     },
     "execution_count": 63,
     "metadata": {},
     "output_type": "execute_result"
    }
   ],
   "source": [
    "## mocnení je, že vemeš číslo 2*n, číslo a xkrat ho vynasobíš sam sebou \n",
    "\n",
    "\n",
    "def mocni(num, ext): \n",
    "    ret = 1 \n",
    "    for i in range(ext): \n",
    "        ret *= num\n",
    "    return ret \n",
    "\n",
    "mocni(10,2)"
   ]
  },
  {
   "cell_type": "markdown",
   "metadata": {},
   "source": [
    "Spočitejte faktorial daného čísla "
   ]
  },
  {
   "cell_type": "code",
   "execution_count": 44,
   "metadata": {},
   "outputs": [
    {
     "name": "stdout",
     "output_type": "stream",
     "text": [
      "24\n"
     ]
    }
   ],
   "source": [
    "int = 4\n",
    "\n",
    "for i in range(int-1,0,-1): # loop generuje čísla od 3 do 1, krokem - 1 \n",
    "    i *= int # číslo se vynásobí\n",
    "    int = i  # výsledek nasobení (i)je potom uložen do proměné int, takže ciklus se cikli \n",
    "\n",
    "print(i)"
   ]
  },
  {
   "cell_type": "code",
   "execution_count": 45,
   "metadata": {},
   "outputs": [
    {
     "data": {
      "text/plain": [
       "24"
      ]
     },
     "execution_count": 45,
     "metadata": {},
     "output_type": "execute_result"
    }
   ],
   "source": [
    "# Přepis do funkce \n",
    "\n",
    "def faktorial(num): \n",
    "    for i in range(num-1,0,-1): \n",
    "        i *= num \n",
    "        num = i\n",
    "    return i \n",
    "faktorial(4)\n"
   ]
  },
  {
   "cell_type": "markdown",
   "metadata": {},
   "source": [
    "fibonaciho posloupnost "
   ]
  },
  {
   "cell_type": "code",
   "execution_count": 61,
   "metadata": {},
   "outputs": [
    {
     "name": "stdout",
     "output_type": "stream",
     "text": [
      "0\n",
      "1\n",
      "1\n",
      "2\n",
      "3\n",
      "5\n"
     ]
    }
   ],
   "source": [
    "## tj 1 + 1  = 2 a 2 + 1 = 3 a 3 + 2 = 5 atd \n",
    "\n",
    "\n",
    "## takže poítam do \n",
    "\n",
    "lim = 5 \n",
    "a, b = 0, 1 \n",
    "for i in range(0,lim + 1): \n",
    "    if i == 0: \n",
    "        print(i)\n",
    "    elif i == 1: \n",
    "        print(i)\n",
    "    else: \n",
    "        k = a + b\n",
    "        print(k)\n",
    "        a, b = b,k \n"
   ]
  },
  {
   "cell_type": "markdown",
   "metadata": {},
   "source": [
    "0  + 1 = 1 \n",
    "1 + 1 = 2 \n",
    "2 + 1 = 3 \n",
    "3 + 2 = 5 \n",
    "5 + 3 = 8 \n",
    "8 + 5 = 13 \n"
   ]
  },
  {
   "cell_type": "code",
   "execution_count": 62,
   "metadata": {},
   "outputs": [
    {
     "name": "stdout",
     "output_type": "stream",
     "text": [
      "6\n"
     ]
    }
   ],
   "source": [
    "x = 3 \n",
    "\n",
    "def f(y):\n",
    "    y = 2 * y \n",
    "    print(y)\n",
    "f(x)"
   ]
  },
  {
   "cell_type": "code",
   "execution_count": 67,
   "metadata": {},
   "outputs": [
    {
     "name": "stdout",
     "output_type": "stream",
     "text": [
      "5\n",
      "7\n",
      "9\n"
     ]
    }
   ],
   "source": [
    "for x in range(5,11,2):\n",
    "    print(x)\n"
   ]
  },
  {
   "cell_type": "code",
   "execution_count": 77,
   "metadata": {},
   "outputs": [
    {
     "name": "stdout",
     "output_type": "stream",
     "text": [
      "[2, 3]\n",
      "1\n"
     ]
    }
   ],
   "source": [
    "xs = (3, [2, 3], {4: 'čtyři', 5: 'pět', 6: 'šest'}, 7, (8 ,9), )\n",
    "\n",
    "print(xs[1])\n",
    "\n",
    "print(xs.count(3))"
   ]
  },
  {
   "cell_type": "code",
   "execution_count": 71,
   "metadata": {},
   "outputs": [
    {
     "name": "stdout",
     "output_type": "stream",
     "text": [
      "['Tonda', 'Petr', 'Pavel', 'Jirka', 'Jarda', 'Bořek']\n"
     ]
    }
   ],
   "source": [
    "xs = ['Petr', 'Pavel', 'Jirka', 'Jarda', 'Bořek', 'Tonda', ]\n",
    "\n",
    "ys = sorted(xs, reverse= True)\n",
    "print(ys)\n"
   ]
  },
  {
   "cell_type": "code",
   "execution_count": 72,
   "metadata": {},
   "outputs": [
    {
     "name": "stdout",
     "output_type": "stream",
     "text": [
      "světe můj\n"
     ]
    }
   ],
   "source": [
    "\n",
    "n = \"ahoj\"\n",
    "def test(x):\n",
    "         n = 'světe ' + x\n",
    "         return n\n",
    "    \n",
    "print( test('můj') )\n"
   ]
  },
  {
   "cell_type": "code",
   "execution_count": 73,
   "metadata": {},
   "outputs": [
    {
     "name": "stdout",
     "output_type": "stream",
     "text": [
      "6\n"
     ]
    }
   ],
   "source": [
    "xs = \"Abrakadabra\"\n",
    "\n",
    "print(len(set(xs)))"
   ]
  },
  {
   "cell_type": "code",
   "execution_count": 76,
   "metadata": {},
   "outputs": [
    {
     "name": "stdout",
     "output_type": "stream",
     "text": [
      "2\n",
      "4\n",
      "6\n",
      "8\n",
      "{1: 'jedna', 2: 10, 3: 'tři', 4: 'čtyři'}\n"
     ]
    },
    {
     "data": {
      "text/plain": [
       "[1, 2, 3, 4]"
      ]
     },
     "execution_count": 76,
     "metadata": {},
     "output_type": "execute_result"
    }
   ],
   "source": [
    "xs = {1: 'jedna', 2: 'dvě', 3: 'tři', 4: 'čtyři', }\n",
    "\n",
    "\n",
    "for x in xs:\n",
    "    print(2*x)\n",
    "\n",
    "xs[2] = 5 + 5 \n",
    "\n",
    "print(xs)\n",
    "\n",
    "[x for x in xs]"
   ]
  },
  {
   "cell_type": "code",
   "execution_count": 78,
   "metadata": {},
   "outputs": [
    {
     "ename": "TypeError",
     "evalue": "'>' not supported between instances of 'int' and 'str'",
     "output_type": "error",
     "traceback": [
      "\u001b[0;31m---------------------------------------------------------------------------\u001b[0m",
      "\u001b[0;31mTypeError\u001b[0m                                 Traceback (most recent call last)",
      "\u001b[1;32mUntitled-1.ipynb buňka 22\u001b[0m line \u001b[0;36m1\n\u001b[0;32m----> <a href='vscode-notebook-cell:Untitled-1.ipynb?jupyter-notebook#X31sdW50aXRsZWQ%3D?line=0'>1</a>\u001b[0m x \u001b[39m=\u001b[39m \u001b[39m2\u001b[39;49m \u001b[39m>\u001b[39;49m \u001b[39m\"\u001b[39;49m\u001b[39mdvě\u001b[39;49m\u001b[39m\"\u001b[39;49m\n\u001b[1;32m      <a href='vscode-notebook-cell:Untitled-1.ipynb?jupyter-notebook#X31sdW50aXRsZWQ%3D?line=2'>3</a>\u001b[0m \u001b[39mprint\u001b[39m(x)\n",
      "\u001b[0;31mTypeError\u001b[0m: '>' not supported between instances of 'int' and 'str'"
     ]
    }
   ],
   "source": [
    "x = 2 > \"dvě\"\n",
    "\n",
    "print(x)\n"
   ]
  },
  {
   "cell_type": "code",
   "execution_count": 80,
   "metadata": {},
   "outputs": [
    {
     "name": "stdout",
     "output_type": "stream",
     "text": [
      "{}\n"
     ]
    }
   ],
   "source": [
    "x = [] or {}\n",
    "print(x)\n"
   ]
  },
  {
   "cell_type": "code",
   "execution_count": 92,
   "metadata": {},
   "outputs": [
    {
     "name": "stdout",
     "output_type": "stream",
     "text": [
      "cumt\n"
     ]
    }
   ],
   "source": [
    "xs = \"clubmate\"\n",
    "\n",
    "xd = xs[:7:2] # bere každej druhej \n",
    "print(xd)"
   ]
  },
  {
   "cell_type": "code",
   "execution_count": 10,
   "metadata": {},
   "outputs": [
    {
     "data": {
      "text/plain": [
       "[4, 5, 6]"
      ]
     },
     "execution_count": 10,
     "metadata": {},
     "output_type": "execute_result"
    }
   ],
   "source": [
    "xs = [1, [2, 3], [4, 5, 6], [7, 8, 9, 0],]\n",
    "\n",
    "\n",
    "xs.pop(2)\n"
   ]
  },
  {
   "cell_type": "code",
   "execution_count": 11,
   "metadata": {},
   "outputs": [
    {
     "data": {
      "text/plain": [
       "[19, 13, 12, 10, 5, 19, 13, 8]"
      ]
     },
     "execution_count": 11,
     "metadata": {},
     "output_type": "execute_result"
    }
   ],
   "source": [
    "xs = \"Třistatřiatřicet stříbrných stříkaček stříkalo přes třistatřiatřicet stříbrných střech.\"\n",
    "\n",
    "[len(x) for x in xs.split()]"
   ]
  },
  {
   "cell_type": "code",
   "execution_count": 13,
   "metadata": {},
   "outputs": [
    {
     "name": "stdout",
     "output_type": "stream",
     "text": [
      "19\n"
     ]
    }
   ],
   "source": [
    "xs = \"Třistatřiatřicet\"\n",
    "\n",
    "print(len(xs))    "
   ]
  },
  {
   "cell_type": "code",
   "execution_count": null,
   "metadata": {},
   "outputs": [],
   "source": [
    "\n"
   ]
  }
 ],
 "metadata": {
  "kernelspec": {
   "display_name": "Python 3",
   "language": "python",
   "name": "python3"
  },
  "language_info": {
   "codemirror_mode": {
    "name": "ipython",
    "version": 3
   },
   "file_extension": ".py",
   "mimetype": "text/x-python",
   "name": "python",
   "nbconvert_exporter": "python",
   "pygments_lexer": "ipython3",
   "version": "3.12.3"
  }
 },
 "nbformat": 4,
 "nbformat_minor": 2
}
