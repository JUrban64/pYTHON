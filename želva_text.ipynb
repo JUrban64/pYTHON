{
 "cells": [
  {
   "cell_type": "code",
   "execution_count": 1,
   "metadata": {},
   "outputs": [
    {
     "name": "stderr",
     "output_type": "stream",
     "text": [
      "2024-09-16 12:45:01.953 Python[95378:4340798] ApplePersistenceIgnoreState: Existing state will not be touched. New state will be written to /var/folders/8z/ww4f1_9j1ndcb6wvpryctn900000gn/T/org.python.python.savedState\n"
     ]
    },
    {
     "data": {
      "text/plain": [
       "<function turtle.mainloop()>"
      ]
     },
     "execution_count": 1,
     "metadata": {},
     "output_type": "execute_result"
    },
    {
     "ename": "",
     "evalue": "",
     "output_type": "error",
     "traceback": [
      "\u001b[1;31mPři provádění kódu v aktuální buňce nebo předchozí buňce došlo k chybovému ukončení Kernel. Zkontrolujte prosím kód v buňkách a identifikujte možnou příčinu selhání. Další informace zobrazíte kliknutím <a href='https://aka.ms/vscodeJupyterKernelCrash'>sem</a>. Další podrobnosti najdete v [protokolu] Jupyter (command:jupyter.viewOutput)."
     ]
    }
   ],
   "source": [
    "import turtle as t\n",
    "\n",
    "for i in range(8):\n",
    "    t.left(45)\n",
    "    t.forward(25)\n",
    "    t.right(90)\n",
    "    t.forward(25)\n",
    "    t.left(90)\n",
    "    t.forward(25)\n",
    "    t.right(90)\n",
    "    t.forward(25)\n",
    "\n",
    "t.done"
   ]
  },
  {
   "cell_type": "code",
   "execution_count": null,
   "metadata": {},
   "outputs": [],
   "source": []
  }
 ],
 "metadata": {
  "kernelspec": {
   "display_name": "Python 3",
   "language": "python",
   "name": "python3"
  },
  "language_info": {
   "codemirror_mode": {
    "name": "ipython",
    "version": 3
   },
   "file_extension": ".py",
   "mimetype": "text/x-python",
   "name": "python",
   "nbconvert_exporter": "python",
   "pygments_lexer": "ipython3",
   "version": "3.12.3"
  }
 },
 "nbformat": 4,
 "nbformat_minor": 2
}
