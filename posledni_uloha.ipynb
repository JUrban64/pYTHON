{
 "cells": [
  {
   "cell_type": "markdown",
   "metadata": {},
   "source": [
    "A u souboru slovník českých slov v ASCII-úpravě z předchozího příkladu ještě jednou zůstaneme.\n",
    "\n",
    "Tentokrát se neomezujte délkou slov a zpracujte je všechna. Vaším úkolem přitom je vyrobit pythoní slovník, v němž klíči bude délka slov a hodnotou průměrné zastoupení samohlásek ve slovech této délky. Jelikož jsou data v ASCII, samohlásky jsou omezené na následující množinu písmen: aeiyouAEIYOU\n",
    "\n",
    "PS: Tohkle je zdaleka nejzamotanější úloha, tak si ji asi radši nechte nakonec."
   ]
  },
  {
   "cell_type": "code",
   "execution_count": 3,
   "metadata": {},
   "outputs": [
    {
     "name": "stdout",
     "output_type": "stream",
     "text": [
      "{1: 37.0, 2: 394.0, 4: 7714.25, 3: 2093.6666666666665, 5: 17670.6, 6: 31468.333333333332, 7: 45045.857142857145, 9: 48685.666666666664, 11: 25921.0, 8: 52807.875, 10: 38267.6, 12: 16247.75, 15: 3004.0666666666666, 13: 9255.846153846154, 14: 5252.785714285715, 16: 1561.0, 17: 921.7647058823529, 20: 90.45, 19: 226.31578947368422, 18: 428.72222222222223, 21: 51.38095238095238, 22: 27.454545454545453, 31: 0.9032258064516129, 25: 2.64, 23: 2.391304347826087}\n"
     ]
    }
   ],
   "source": [
    "with open(\"/Users/jachymurban/Downloads/syn2010_word.vyber-ascii.txt\", \"r\", encoding=\"utf-8\") as f:\n",
    "    slov = {}\n",
    "    samohlaksy = (\"a\", \"e\", \"i\", \"o\", \"u\", \"y\",\"A\", \"E\", \"I\", \"O\", \"U\", \"Y\")\n",
    "    for line in f: \n",
    "        for slovo in line.split():\n",
    "            delka_slov = len(slovo)\n",
    "            pocet_samohlasek = 0\n",
    "            for pismeno in slovo:\n",
    "                if pismeno in samohlaksy:\n",
    "                    pocet_samohlasek += 1\n",
    "                    if delka_slov in slov:\n",
    "                        slov[delka_slov] += pocet_samohlasek\n",
    "                    else:\n",
    "                        slov[delka_slov] = pocet_samohlasek\n",
    "    for key in slov:\n",
    "        slov[key] = slov[key] / key\n",
    "\n",
    "print(slov)\n"
   ]
  },
  {
   "cell_type": "markdown",
   "metadata": {},
   "source": [
    "hodnota je zastoupení průměrného zastoupenní "
   ]
  },
  {
   "cell_type": "code",
   "execution_count": null,
   "metadata": {},
   "outputs": [],
   "source": []
  }
 ],
 "metadata": {
  "kernelspec": {
   "display_name": "Python 3",
   "language": "python",
   "name": "python3"
  },
  "language_info": {
   "codemirror_mode": {
    "name": "ipython",
    "version": 3
   },
   "file_extension": ".py",
   "mimetype": "text/x-python",
   "name": "python",
   "nbconvert_exporter": "python",
   "pygments_lexer": "ipython3",
   "version": "3.12.3"
  }
 },
 "nbformat": 4,
 "nbformat_minor": 2
}
