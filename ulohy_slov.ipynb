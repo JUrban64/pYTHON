{
 "cells": [
  {
   "cell_type": "code",
   "execution_count": null,
   "metadata": {},
   "outputs": [],
   "source": [
    "text = ()\n",
    "with open(\"/Users/jachymurban/Desktop/Pthonadre/zvu.txt\", \"r\", encoding=\"utf-8\") as file1: \n",
    "    text = file1.read()\n",
    "\n",
    "import pprint\n",
    "\n",
    "\n",
    "slovnik = {}\n",
    "\n",
    "for znak in text.lower():  # maže změny mezi A/a \n",
    "    if znak.isalpha():  # kontroluje zda je to písmeno\n",
    "        if znak in slovnik: \n",
    "            slovnik[znak] += 1 # syntax je dict[key] = value, což znamena, že values jsou četnosti, tedy pokud je znak v textu tak iterativně přičíta + 1 \n",
    "        else: \n",
    "            slovnik[znak] = 1  # nastavuje základní hodnotu \n",
    "\n",
    "pprint.pprint(slovnik)\n",
    "\n"
   ]
  },
  {
   "cell_type": "markdown",
   "metadata": {},
   "source": [
    "poznamky: \n",
    "text.lower() musí byt v for loop aby fungoval, jinak si ho to bere globálně \n",
    "\n"
   ]
  },
  {
   "cell_type": "markdown",
   "metadata": {},
   "source": [
    " Rozšiřte předchozí program tak, že hodnotou bude objekt o dvou prvcích – prvním bude počet výskytů daného písmene v textu, druhým jeho relativní četnost v % (vzhledem k počtu všech písmen v textu)."
   ]
  },
  {
   "cell_type": "code",
   "execution_count": null,
   "metadata": {},
   "outputs": [],
   "source": [
    "text = ()\n",
    "with open(\"/Users/jachymurban/Desktop/Pthonadre/zvu.txt\", \"r\", encoding=\"utf-8\") as file1: \n",
    "    text = file1.read()\n",
    "\n",
    "import pprint\n",
    "\n",
    "\n",
    "slovnik = {}\n",
    "\n",
    "# počet písmen v textu \n",
    "count = 0 \n",
    "for i in text.lower(): \n",
    "    if i.isalpha: \n",
    "        count += 1 \n",
    "# počet písmen je 803 \n",
    "\n",
    "\n",
    "for znak in text.lower():  # maže změny mezi A/a \n",
    "    if znak.isalpha():  # kontroluje zda je to písmeno\n",
    "        if znak in slovnik: \n",
    "            slovnik[znak] += 1  # syntax je dict[key] = value, což znamena, že values jsou četnosti, tedy pokud je znak v textu tak iterativně přičíta + 1 \n",
    "        else: \n",
    "            slovnik[znak] = 1  # nastavuje základní hodnotu \n",
    "\n",
    "for znak in slovnik: \n",
    "    slovnik[znak] = (slovnik[znak], slovnik[znak]/count*100) # přidava do původního slovniku druhou value, jakožto tuple\n",
    "\n",
    "pprint.pprint(slovnik)\n"
   ]
  },
  {
   "cell_type": "markdown",
   "metadata": {},
   "source": [
    "do slovníku lze přikládat hodnoty k values postupně "
   ]
  },
  {
   "cell_type": "markdown",
   "metadata": {},
   "source": [
    "Obměňte první program tak, aby ukládal počet výskytů nikoli písmen, ale slov."
   ]
  },
  {
   "cell_type": "code",
   "execution_count": null,
   "metadata": {},
   "outputs": [],
   "source": [
    "import pprint\n",
    "text = ()\n",
    "with open(\"/Users/jachymurban/Desktop/Pthonadre/zvu.txt\", \"r\", encoding=\"utf-8\") as file1: \n",
    "    text = file1.read()\n",
    "\n",
    "slovnik = {}\n",
    "bez_mezer = text.split(\" \")\n",
    "\n",
    "\n",
    "for slovo in bez_mezer: \n",
    "    if slovo.isalpha(): \n",
    "        if slovo in slovnik: \n",
    "              slovnik[slovo] += 1 \n",
    "        else: \n",
    "            slovnik[slovo] = 1 \n",
    "\n",
    "pprint.pprint(slovnik)\n"
   ]
  },
  {
   "cell_type": "markdown",
   "metadata": {},
   "source": [
    " Rozšiřte předchozí program tak, že hodnotou bude n-tice o dvou prvcích – prvním bude počet výskytů daného slova v textu, druhým jeho relativní četnost v % (vzhledem k počtu všech slov v textu).\n",
    " "
   ]
  },
  {
   "cell_type": "code",
   "execution_count": null,
   "metadata": {},
   "outputs": [],
   "source": [
    "import pprint\n",
    "text = ()\n",
    "with open(\"/Users/jachymurban/Desktop/Pthonadre/zvu.txt\", \"r\", encoding=\"utf-8\") as file1: \n",
    "    text = file1.read()\n",
    "\n",
    "slovnik = {}\n",
    "bez_mezer = text.split(\" \")\n",
    "\n",
    "\n",
    "for slovo in bez_mezer: \n",
    "    if slovo.isalpha(): \n",
    "        if slovo in slovnik: \n",
    "              slovnik[slovo] += 1 \n",
    "        else: \n",
    "            slovnik[slovo] = 1 \n",
    "\n",
    "## četnost slov = spočítat slova  a ulož je do nějaké var \n",
    "\n",
    "for pořadí , slovo in enumerate(bez_mezer): \n",
    "    pocet = pořadí \n",
    "print(pocet) \n",
    "\n",
    "print(len(bez_mezer)) # nebo takhle \n",
    "\n",
    "\n",
    "\n",
    "for slovo in slovnik: \n",
    "    slovnik[slovo] = (slovnik[slovo], slovnik[slovo]/pocet * 100)\n",
    "\n",
    "pprint.pprint(slovnik)\n",
    "\n",
    "\n",
    "\n",
    "\n",
    "\n",
    "\n",
    "# pprint.pprint(slovnik)\n"
   ]
  },
  {
   "cell_type": "markdown",
   "metadata": {},
   "source": [
    "Napište funkci, který spojí dva slovníky: {\"a\": 1, \"b\": 2, \"c\": 3}, {\"d\": 7, \"e\": 8} - > {\"a\": 1, \"b\": 2, \"c\": 3, \"d\": 7, \"e\": 8} "
   ]
  },
  {
   "cell_type": "code",
   "execution_count": 2,
   "metadata": {},
   "outputs": [
    {
     "name": "stdout",
     "output_type": "stream",
     "text": [
      "{'a': 1, 'b': 2, 'c': 3, 'd': 7, 'e': 8}\n"
     ]
    }
   ],
   "source": [
    "jedna, dva = {\"a\": 1, \"b\": 2, \"c\": 3}, {\"d\": 7, \"e\": 8} \n",
    "\n",
    "jedna.update(dva)\n",
    "\n",
    "print(jedna)\n",
    "\n",
    "\n",
    "\n",
    "\n"
   ]
  },
  {
   "cell_type": "code",
   "execution_count": 17,
   "metadata": {},
   "outputs": [
    {
     "name": "stdout",
     "output_type": "stream",
     "text": [
      "{'a': 1, 'b': 2, 'c': 3, 'd': 7, 'e': 8}\n"
     ]
    }
   ],
   "source": [
    "jedna, dva = {\"a\": 1, \"b\": 2, \"c\": 3}, {\"d\": 7, \"e\": 8} \n",
    "\n",
    "def spoj_dic(done,dtwo):\n",
    "     done.update(dtwo)\n",
    "     return done\n",
    "    \n",
    "print(spoj_dic(jedna,dva))\n",
    "\n"
   ]
  },
  {
   "cell_type": "markdown",
   "metadata": {},
   "source": [
    "Todle proste funguje nevím co jsem tam před tím vymýšlel "
   ]
  },
  {
   "cell_type": "markdown",
   "metadata": {},
   "source": [
    "Napište funkci, která bude „obracet“ slovník. Bude brát slovník jako jediný argument a vrátí nový slovník, ve kterém budou hodnoty ze vstupního slovníku převedeny na klíče a klíče na hodnoty.\n",
    "Ukázka: {1: 'A', 2: 'B'} => {'A': 1, 'B': 2}"
   ]
  },
  {
   "cell_type": "code",
   "execution_count": 33,
   "metadata": {},
   "outputs": [
    {
     "name": "stdout",
     "output_type": "stream",
     "text": [
      "{'ahoj': 'a'}\n",
      "{'ahoj': 'a', 'čau': 'b'}\n"
     ]
    }
   ],
   "source": [
    "slov = {\"a\":\"ahoj\", \"b\": \"čau\"}\n",
    "\n",
    "\n",
    "n_dic = {}\n",
    "\n",
    "for key in slov: \n",
    "    n_dic[slov[key]] = key \n",
    "print(n_dic)\n"
   ]
  },
  {
   "cell_type": "code",
   "execution_count": 47,
   "metadata": {},
   "outputs": [
    {
     "data": {
      "text/plain": [
       "{'ahoj': 'a', 'čau': 'b'}"
      ]
     },
     "execution_count": 47,
     "metadata": {},
     "output_type": "execute_result"
    }
   ],
   "source": [
    "slov = {\"a\":\"ahoj\", \"b\": \"čau\"}\n",
    "\n",
    "def swap_k_v(dic):\n",
    "     n_dic = {}\n",
    "     for key in dic: \n",
    "          n_dic[slov[key]] = key\n",
    "     return n_dic\n",
    "\n",
    "swap_k_v(slov)"
   ]
  },
  {
   "cell_type": "markdown",
   "metadata": {},
   "source": [
    "Koemntrař k syntaxe: n_slovnik[jeho_novej_klič[value_starého_slovnku]] = nová_hodnota[což je stary klič ]"
   ]
  },
  {
   "cell_type": "markdown",
   "metadata": {},
   "source": [
    "Upravte předchozí program tak, aby bral v potaz skutečnost, že hodnoty nemusí být unikátní. Pro každou hodnotu tedy bude vytvářet seznam původních klíčů.\n",
    "Ukázka: {1: 'A', 2: 'B', 3: 'B', 4: 'A', 5: 'C'} => {'A': [1,4], 'B': [2,3], 'C': [5]}"
   ]
  },
  {
   "cell_type": "code",
   "execution_count": 14,
   "metadata": {},
   "outputs": [
    {
     "name": "stdout",
     "output_type": "stream",
     "text": [
      "{'A': [1, 4], 'B': [2, 3], 'C': [5]}\n"
     ]
    }
   ],
   "source": [
    "slov={1: 'A', 2: 'B', 3: 'B', 4: 'A', 5: 'C'}\n",
    "\n",
    "## když bude jejich val stená tak, z klíču udelej seznam \n",
    "n_dic = {}\n",
    "for key in slov: \n",
    "    if slov[key] not in n_dic: \n",
    "        n_dic[slov[key]] = [] ## transforamce na slovnik, pokud value není v novém n_dic \n",
    "    n_dic[slov[key]].append(key) ## ttady mužeš použít append, protože si předtím transofrmoval na slovnik \n",
    "\n",
    "print(n_dic) \n",
    "\n",
    "\n",
    "\n",
    "    "
   ]
  },
  {
   "cell_type": "markdown",
   "metadata": {},
   "source": [
    "takže pokud value není v n_dict, vytváří se prazdný seznam, vpouzdreny do slovniku, kde klíč je slov[key], což je tedy stara hodnota. \n",
    "potom jelikžo jsem vytovříli slovnik, můžem použit append a vložit stary původní klíč jakožto (key), ale tentokrat již jako value nového seznamu "
   ]
  }
 ],
 "metadata": {
  "kernelspec": {
   "display_name": "Python 3",
   "language": "python",
   "name": "python3"
  },
  "language_info": {
   "codemirror_mode": {
    "name": "ipython",
    "version": 3
   },
   "file_extension": ".py",
   "mimetype": "text/x-python",
   "name": "python",
   "nbconvert_exporter": "python",
   "pygments_lexer": "ipython3",
   "version": "3.12.3"
  }
 },
 "nbformat": 4,
 "nbformat_minor": 2
}
