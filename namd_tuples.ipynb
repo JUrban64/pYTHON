{
 "cells": [
  {
   "cell_type": "code",
   "execution_count": null,
   "metadata": {},
   "outputs": [],
   "source": []
  },
  {
   "cell_type": "markdown",
   "metadata": {},
   "source": [
    "V Pythonu `namedtuples` poskytují způsob, jak definovat tuplu s pojmenovanými poli, což usnadňuje přístup k hodnotám pomocí názvů místo indexů. `namedtuples` jsou implementovány pomocí modulu `collections`. Můžeš je použít například takto:\n",
    "\n",
    "```python\n",
    "from collections import namedtuple\n",
    "\n",
    "# Definování namedtuple pojmenované 'Person' se dvěma poli: 'name' a 'age'\n",
    "Person = namedtuple('Person', ['name', 'age'])\n",
    "\n",
    "# Vytvoření instance namedtuple\n",
    "p = Person(name='John', age=30)\n",
    "\n",
    "# Přístup k hodnotám pomocí názvů polí\n",
    "print(p.name)  # Výstup: John\n",
    "print(p.age)   # Výstup: 30\n",
    "\n",
    "# Přístup k hodnotám pomocí indexů (stejně jako u běžných tuplů)\n",
    "print(p[0])    # Výstup: John\n",
    "print(p[1])    # Výstup: 30\n",
    "```\n",
    "\n",
    "### Klíčové body:\n",
    "- `namedtuple` se používá k vytvoření typu tuplu s pojmenovanými položkami.\n",
    "- Je to lehká alternativa ke třídám, pokud potřebuješ uchovávat neměnné údaje.\n",
    "- K hodnotám lze přistupovat jak pomocí názvů atributů, tak pomocí indexů.\n",
    "\n",
    "Můžeš také přidat výchozí hodnoty, změnit typy pomocí `type hints`, nebo rozšiřovat funkcionalitu pomocí metod, pokud to situace vyžaduje."
   ]
  },
  {
   "cell_type": "markdown",
   "metadata": {},
   "source": []
  }
 ],
 "metadata": {
  "language_info": {
   "name": "python"
  }
 },
 "nbformat": 4,
 "nbformat_minor": 2
}
