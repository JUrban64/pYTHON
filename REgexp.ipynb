{
 "cells": [
  {
   "cell_type": "code",
   "execution_count": null,
   "metadata": {},
   "outputs": [],
   "source": []
  },
  {
   "cell_type": "markdown",
   "metadata": {},
   "source": [
    "Regexpy se používají primarně k vyhledávaní vzroů\n",
    "\n",
    "\n",
    "\n",
    "abecedou označujeme konečnou množinu symbolů -> značí se suma(jakože ten znak)\n",
    "    klasickým příkladem jsou: pismena, číslice a interpunkce \n",
    "         z tech mužem formalně vyrobit: binarní abecedu: {0,1}\n",
    "         ASCCI abecedu \n",
    "         nebo použit cely unicode \n",
    "termin řetězec smybolizuje konečnou sekvenci symbolů z dané abecedy, formalně označovan jako -> s \n",
    "\n",
    " - každy řetezec ma svojí delku, značenou |s|, která udava kolik symbolu dané abecedy je potřeba k složení daného řetezce \n",
    "    např: abeceda: složena z 5 symbolu o délce  7\n",
    "\n",
    "\n",
    "Jazyk \n",
    "- jakakoli spočetná množina řetezcu nad abecedou \n",
    "\n",
    "\n",
    "\n",
    "skladaní řetezců \n",
    "- 1: x a y jsou řetezce\n",
    "    spojení vypda proste takhle xy\n",
    "        x = kočko, y = pes\n",
    "        xy = kočkopes \n",
    "\n",
    "\n",
    "skladaní jazyku \n",
    "- lze skládat řetězce do dvou jazyku dohromady \n",
    "\n",
    "     1 sjednocené : L ∪ M = {s | s ∈ L ∨ s ∈ M}\n",
    "     2 spojení : L a M: LM = {st | s ∈ L ∧ t ∈ M}\n",
    "     kléénuv uzávěr  L: L* = ∪Li, i ∈ <0, ∞>\n",
    "\n",
    "\n",
    "příklad: \n",
    "- ascii abeceda: 52 znaku = L \n",
    "- čísla = {0,1,2,3,4,5,6,7,8,9} = M \n",
    "\n",
    "sjednocení: LUM = 62 znaku \n",
    "spojení: LM = 520 znaků \n",
    "\n",
    "\n",
    "\n",
    "V předchozích příkladech jsme aplikací tří základních operací na pojmenované množiny řetězců (představujících jazyky) vytvářeli množiny řetězců (tedy jazyky) nové.\n",
    "\n",
    "A právě tomuto postupu vytváření (všech možných) nových jazyků aplikací příslušných tří operací na symbolická označení množin znaků se říká regulární výrazy.\n",
    "\n",
    "\n",
    "\n",
    "Formalizace \n",
    "\n",
    "- prázdny řetezec eps, je regulérní výraz, jim generovany výraz L(eps) = {eps}, tedy jazyk, který se skladají z prázdnéhp řetezce \n",
    "- kaýdy symbol a∊Σ je regex, jímž generovany jazyk L(a) = {a}, je jazky skáldajícího z jednoho řetezce \n",
    "\n",
    "S předpoklady, že \n",
    "    (r)|(s) je regulární výraz generující jazyk L(r)∪L(s) (tedy sjednocení jazyků).\n",
    "\n",
    "    (r)(s) je regulární výraz generující jazyk L(r)L(s) (tedy spojení jazyků).\n",
    "\n",
    "    (r)* je regulární výraz generující jazyk (L(r))* (tedy uzávěr jazyka).\n",
    "\n",
    "    (r) je regulární výraz generující jazyk L(r) (tedy volnost v uzávorkovávání).\n",
    "\n",
    "\n",
    "* to jest unarní opertor ma největší prioritu a je zlevasociativní \n",
    "spojení jazyku ma druhou prioritu \n",
    "\n",
    "\n",
    "\n",
    "regulární výraz\todpovídající jazyk\n",
    "    a|b\t                {a, b}\n",
    "    (a|b)(a|b)\n",
    "    aa|ab|ba|bb\t        {aa, ab, ba, bb}\n",
    "\n",
    "    a*\t                {ε, a, aa, aaa, …}\n",
    "\n",
    "    (a|b)*\n",
    "    (a*b*)*\t            {ε, a, b, aa, ab, ba, bb, aaa, …}\n",
    "\n",
    "    a|a*b\t            {a, b, ab, aab, aaab, …}\n",
    "\n",
    "\n",
    "\n",
    "\n",
    "Práce s regulárními výrazy\n",
    "\n",
    "\n",
    "Operatory \n",
    "\n",
    "+  = jeden nebo více výskytů, což nějkym způsobem funguje jako regex (r)+ generuje jazky (L(r))\n",
    "? = to značí žádny prvek nebo právě jeden výskyt \n",
    "\n",
    "[ ] = tvoří množinu znaků = [a - z]\n",
    "\n",
    "\n",
    "\\ = backslash mění vyznma následujícího znaku \n",
    "\n",
    "\n",
    ". = všechno označí \n",
    "\\. poslední \n",
    "\n",
    "\n",
    "  \n",
    "pismeno. = konkretní písmeno plus jeden znak navic \n",
    "pismeno.* = konkretní pismeno plus x znaků navic, \n",
    "\n",
    "\n",
    "<.*>  = najde všechny tagy (to nvm co je) = požere vše co vidi až do dalšího znaku \n",
    "\n",
    "<.*?> = pouze \n",
    "\n",
    "\n",
    "<[^/].*?> = todle najde první vyskyt \n",
    "    [^/] – Toto je výraz s negativní sadou znaků:\n",
    "    [ ] definuje sadu znaků.\n",
    "    ^ uvnitř sady znamená negaci – hledá znak, který není uvedený uvnitř sady.\n",
    "    / je konkrétní znak, který se ne\n",
    "\n",
    "\n",
    "\n",
    "!! uvnitr [], specialní znaky ztrácí své schopnosti \n",
    "\n",
    "[ - ] = skupina zkanu \n",
    "\n",
    "\n",
    "* funguje jako kvantifikátor - > tzn, že se může opakovat předchozí v nulkrat čí až do nekonecná \n",
    "\n",
    "\n",
    "\n",
    "{} = opakovaní -> do vnitř se počet kolikrát se může opakovat, vedle závorky se vloží znak, který hledame  \n",
    "\n",
    "\n",
    "alternace | = povoluje podregexp na své levé straně či na své pravé straně mali(nka|čka)tý \n",
    "\n",
    "\n",
    "\n",
    "\n",
    "\n",
    "\n",
    "Rozšířené symboly \n",
    "- vyhlížení = kouka dopředu před regexp\n",
    "    vyhlížení směrem dopředu \n",
    "    je dvojihé typu \n",
    "        potvrzovací \n",
    "        zamítací \n",
    "\n",
    "    POTVRZOVACÍ\n",
    "        určuje podmínku \n",
    "        karel (?=hynek) => musí byt další hynek \n",
    "        karel (?!hynek) => nesmí byt další hynek \n",
    "    \n",
    "\n",
    "\n",
    "    vyhlížení směrem dozadu \n",
    "\n",
    "\n",
    "        ?<= POZITIVNÍ \n",
    "        ?<! NEGATIVNÍ \n"
   ]
  },
  {
   "cell_type": "code",
   "execution_count": 4,
   "metadata": {},
   "outputs": [
    {
     "name": "stdout",
     "output_type": "stream",
     "text": [
      "<p class=\"para1\"> (0, 17) ('p',)\n",
      "<em> (48, 52) ('em',)\n"
     ]
    }
   ],
   "source": [
    "import re \n",
    "\n",
    "text = \"\"\"<p class=\"para1\">\n",
    "  Jednoduchý HTML-odstavec se <em>zvýrazněným</em> textem,\n",
    "  <9a>falešným elementem</9a> a více řádkami.\n",
    "</p>\"\"\"\n",
    "\n",
    "\n",
    "pattern = re.compile(r\"<([a-z]\\w*).*?>\", re.IGNORECASE.M| re.M)\n",
    "\n",
    "for match in pattern.finditer(text): \n",
    "    print(match.group(), match.span(), match.groups())"
   ]
  },
  {
   "cell_type": "markdown",
   "metadata": {},
   "source": [
    "group() -> zachycený podřetezec \n",
    "span() -> pozice umístěného zasahu celého textu \n",
    "groups() -> n-tice podskupiny řetězců "
   ]
  },
  {
   "cell_type": "code",
   "execution_count": 6,
   "metadata": {},
   "outputs": [
    {
     "name": "stdout",
     "output_type": "stream",
     "text": [
      "['<p class=\"para1\">', '<em>']\n"
     ]
    }
   ],
   "source": [
    "## findall \n",
    "\n",
    "import re \n",
    "\n",
    "text = \"\"\"<p class=\"para1\">\n",
    "  Jednoduchý HTML-odstavec se <em>zvýrazněným</em> textem,\n",
    "  <9a>falešným elementem</9a> a více řádkami.\n",
    "</p>\"\"\"\n",
    "\n",
    "\n",
    "pattern = re.compile(r\"<[a-z]\\w*\\s?.*?>\", re.IGNORECASE | re.M)\n",
    "## hledá značky /HTML/\n",
    "## Výskyt písmen od a do z a může nasledovat libovolny znak, \n",
    "## \\s? \n",
    "\n",
    "\n",
    "mathces = pattern.findall(text)\n",
    "print(mathces)\n"
   ]
  },
  {
   "cell_type": "code",
   "execution_count": 16,
   "metadata": {},
   "outputs": [
    {
     "name": "stdout",
     "output_type": "stream",
     "text": [
      "<p class=\"para1\">\n"
     ]
    }
   ],
   "source": [
    "# search \n",
    "\n",
    "# pokud nas zajíma pouzde první(jeden zasah) používa se search\n",
    "\n",
    "import re \n",
    "\n",
    "text = \"\"\"<p class=\"para1\">\n",
    "  Jednoduchý HTML-odstavec se <em>zvýrazněným</em> textem,\n",
    "  <9a>falešným elementem</9a> a více řádkami.\n",
    "</p>\"\"\"\n",
    "\n",
    "\n",
    "pattern  = re.compile(r\"<([a-z]\\w*).*?>\", re.IGNORECASE | re.M)\n",
    "\n",
    "matches = pattern.search(text)\n",
    "\n",
    "print(matches.group())\n"
   ]
  },
  {
   "cell_type": "markdown",
   "metadata": {},
   "source": [
    "Podobně funguje Match, s rozdílem, že hledá zasah od začatku stringu "
   ]
  },
  {
   "cell_type": "code",
   "execution_count": 19,
   "metadata": {},
   "outputs": [
    {
     "name": "stdout",
     "output_type": "stream",
     "text": [
      "<re.Match object; span=(0, 17), match='<p class=\"para1\">'>\n",
      "<p class=\"para1\">\n"
     ]
    }
   ],
   "source": [
    "# match \n",
    "\n",
    "# pokud nas zajíma pouzde první(jeden zasah) používa se search\n",
    "\n",
    "import re \n",
    "\n",
    "text = \"\"\"<p class=\"para1\">\n",
    "  Jednoduchý HTML-odstavec se <em>zvýrazněným</em> textem,\n",
    "  <9a>falešným elementem</9a> a více řádkami.\n",
    "</p>\"\"\"\n",
    "\n",
    "\n",
    "pattern  = re.compile(r\"<([a-z]\\w*).*?>\", re.IGNORECASE | re.M)\n",
    "\n",
    "matches = pattern.match(text)\n",
    "print(matches)\n",
    "print(matches.group())"
   ]
  },
  {
   "cell_type": "code",
   "execution_count": 27,
   "metadata": {},
   "outputs": [
    {
     "name": "stdout",
     "output_type": "stream",
     "text": [
      "['', '\\n  Jednoduchý HTML-odstavec se ', 'zvýrazněným', ' textem,\\n  ', 'falešným elementem', ' a více řádkami.\\n', '']\n"
     ]
    }
   ],
   "source": [
    "# spit \n",
    "\n",
    "\n",
    "import re \n",
    "\n",
    "text = \"\"\"<p class=\"para1\">\n",
    "  Jednoduchý HTML-odstavec se <em>zvýrazněným</em> textem,\n",
    "  <9a>falešným elementem</9a> a více řádkami.\n",
    "</p>\"\"\"\n",
    "\n",
    "\n",
    "pattern  = re.compile(r\"<.*?>\", re.M)\n",
    "\n",
    "matches = pattern.split(text)\n",
    "print(matches)"
   ]
  },
  {
   "cell_type": "code",
   "execution_count": 30,
   "metadata": {},
   "outputs": [
    {
     "name": "stdout",
     "output_type": "stream",
     "text": [
      "<p class=\"para1\">\n",
      "  Jednoduchý xxxx-odstavec se <em>zvýrazněným</em> textem,\n",
      "  <9a>falešným elementem</9a> a více řádkami.\n",
      "</p>\n"
     ]
    }
   ],
   "source": [
    "## SUB \n",
    "\n",
    "# sub funguje jako replace a translate v py \n",
    "\n",
    "\n",
    "import re \n",
    "\n",
    "text = \"\"\"<p class=\"para1\">\n",
    "  Jednoduchý HTML-odstavec se <em>zvýrazněným</em> textem,\n",
    "  <9a>falešným elementem</9a> a více řádkami.\n",
    "</p>\"\"\"\n",
    "\n",
    "pattern = re.compile(r\"HTML\", re.IGNORECASE | re.M) \n",
    "\n",
    "matches = pattern.sub(\"xxxx\",text)\n",
    "print(matches)"
   ]
  },
  {
   "cell_type": "code",
   "execution_count": 35,
   "metadata": {},
   "outputs": [
    {
     "name": "stdout",
     "output_type": "stream",
     "text": [
      "['and', 'apricot', 'are', 'amazing']\n"
     ]
    }
   ],
   "source": [
    "import re\n",
    "\n",
    "text = \"Apple and apricot are amazing fruits.\"\n",
    "# Tvůj regex sem\n",
    "\n",
    "patern = re.compile(r\"a\\w+\")\n",
    "\n",
    "maches = patern.findall(text)\n",
    "print(maches)"
   ]
  },
  {
   "cell_type": "code",
   "execution_count": 39,
   "metadata": {},
   "outputs": [
    {
     "name": "stdout",
     "output_type": "stream",
     "text": [
      "['2', '0', '2', '0', '1', '0', '5', '0', '0', '0']\n",
      "2,0,2,0,1,0,5,0,0,0\n"
     ]
    }
   ],
   "source": [
    "text = \"In 2020, I visited 10 countries and traveled 5000 miles.\"\n",
    "\n",
    "import re \n",
    "\n",
    "patern = re.compile(r\"\\d\")\n",
    "match = patern.findall(text)\n",
    "print(match)\n"
   ]
  },
  {
   "cell_type": "code",
   "execution_count": 55,
   "metadata": {},
   "outputs": [
    {
     "name": "stdout",
     "output_type": "stream",
     "text": [
      "annareiserova@seznam.cz je validní\n"
     ]
    }
   ],
   "source": [
    "emai = \"annareiserova@seznam.cz\"\n",
    "\n",
    "import re \n",
    "\n",
    "patern = re.compile(r\"[a-z]+@[a-z]+\\.cz\")\n",
    "\n",
    "mathces = patern.match(emai)\n",
    "\n",
    "if mathces: \n",
    "    print(f\"{emai} je validní\")\n",
    "else: \n",
    "    print(f\"{emai} je nepooužitelný, použijte jiny\")"
   ]
  },
  {
   "cell_type": "code",
   "execution_count": 63,
   "metadata": {},
   "outputs": [
    {
     "name": "stdout",
     "output_type": "stream",
     "text": [
      "['pass123word']\n"
     ]
    }
   ],
   "source": [
    "text = \"My password is pass123word and my number is 123456.\"\n",
    "\n",
    "\n",
    "import re \n",
    "\n",
    "patern = re.compile(r\"[a-z]+\\d+[a-z]+\")\n",
    "matches = patern.findall(text)\n",
    "print(matches)\n"
   ]
  },
  {
   "cell_type": "code",
   "execution_count": 64,
   "metadata": {},
   "outputs": [
    {
     "name": "stdout",
     "output_type": "stream",
     "text": [
      "['21/07/2023', '01/01/2024']\n"
     ]
    }
   ],
   "source": [
    "text = \"Dne 21/07/2023 a 01/01/2024 se uskuteční dvě různé akce.\"\n",
    "\n",
    "import re \n",
    "\n",
    "patern = re.compile(r\"\\d+/\\d+/\\d+\")\n",
    "\n",
    "mach = patern.findall(text)\n",
    "print(mach)"
   ]
  },
  {
   "cell_type": "code",
   "execution_count": 65,
   "metadata": {},
   "outputs": [
    {
     "name": "stdout",
     "output_type": "stream",
     "text": [
      "['running', 'jumping', 'swimming']\n"
     ]
    }
   ],
   "source": [
    "text = \"He is running, jumping, and swimming in the park.\"\n",
    "\n",
    "\n",
    "import re \n",
    "\n",
    "patern = re.compile(r\"[a-z]+ing\")\n",
    "\n",
    "match = patern.findall(text)\n",
    "print(match)"
   ]
  },
  {
   "cell_type": "code",
   "execution_count": 97,
   "metadata": {},
   "outputs": [
    {
     "name": "stdout",
     "output_type": "stream",
     "text": [
      "['+420 777 123 456', ' 602 987 654']\n"
     ]
    }
   ],
   "source": [
    "\n",
    "text = \"Zavolejte na +420 777 123 456 nebo na 602 987 654.\"\n",
    "\n",
    "# \\+|(\\d+)\n",
    "\n",
    "\n",
    "import re \n",
    "\n",
    "patern = re.compile(r\"\\+?\\d{3} \\d{3} \\d{3} \\d{3}| \\d{3} \\d{3} \\d{3}\")\n",
    "\n",
    "match = patern.findall(text)\n",
    "\n",
    "print(match)\n",
    "\n"
   ]
  },
  {
   "cell_type": "code",
   "execution_count": 16,
   "metadata": {},
   "outputs": [
    {
     "name": "stdout",
     "output_type": "stream",
     "text": [
      "['+420 777 123 456 ', ' 602 987 654']\n"
     ]
    }
   ],
   "source": [
    "\n",
    "text = \"Zavolejte na +420 777 123 456 nebo na 602 987 654.\"\n",
    "\n",
    "# \\+|(\\d+)\n",
    "\n",
    "\n",
    "import re \n",
    "\n",
    "patern = re.compile(r\"\\+\\d{1,3} \\d{1,3} \\d{1,3} \\d{1,3} | \\d{1,3} \\d{1,3} \\d{1,3}\")\n",
    "\n",
    "match = patern.findall(text)\n",
    "\n",
    "print(match)\n",
    "\n"
   ]
  },
  {
   "cell_type": "code",
   "execution_count": 19,
   "metadata": {},
   "outputs": [
    {
     "name": "stdout",
     "output_type": "stream",
     "text": [
      "['Alice', 'Bob', 'Carol', 'Paris']\n"
     ]
    }
   ],
   "source": [
    "text = \"Alice and Bob are going to meet Carol in Paris.\"\n",
    "\n",
    "\n",
    "import re \n",
    "\n",
    "patern = re.compile(r\"[A-Z]\\w+\")\n",
    "\n",
    "match = patern.findall(text)\n",
    "\n",
    "print(match)\n"
   ]
  },
  {
   "cell_type": "code",
   "execution_count": 21,
   "metadata": {},
   "outputs": [
    {
     "name": "stdout",
     "output_type": "stream",
     "text": [
      "['202', '150', '250', '999']\n"
     ]
    }
   ],
   "source": [
    "text = \"V roce 2024 bylo zaznamenáno 150, 250 a 999 případů.\"\n",
    "\n",
    "import re \n",
    "\n",
    "patern = re.compile(r\"\\d{3}+\")\n",
    "\n",
    "match = patern.findall(text)\n",
    "print(match)"
   ]
  },
  {
   "cell_type": "code",
   "execution_count": 29,
   "metadata": {},
   "outputs": [
    {
     "name": "stdout",
     "output_type": "stream",
     "text": [
      "My username is ******and my password is ******.\n"
     ]
    }
   ],
   "source": [
    "text = \"My username is user123 and my password is pass456word.\"\n",
    "\n",
    "\n",
    "import re \n",
    "\n",
    "## regex najde slova s číslama a nahradí je ***** \n",
    "\n",
    "patern = re.compile(r\"[a-z]+\\d+[a-z]+|[a-z]+\\d+ |\\d+[a-z]+\")\n",
    "\n",
    "match = patern.sub(\"******\", text)\n",
    "\n",
    "print(match)"
   ]
  },
  {
   "cell_type": "code",
   "execution_count": 30,
   "metadata": {},
   "outputs": [
    {
     "name": "stdout",
     "output_type": "stream",
     "text": [
      "['123 45']\n"
     ]
    }
   ],
   "source": [
    "text = \"Správné PSČ je 123 45, ale 1234 nebo 123456 není správně.\"\n",
    "\n",
    "import re \n",
    " \n",
    "patern = re.compile(r\"\\d{3} \\d{2}\")\n",
    "\n",
    "match = patern.findall(text)\n",
    "print(match)\n"
   ]
  },
  {
   "cell_type": "code",
   "execution_count": 40,
   "metadata": {},
   "outputs": [
    {
     "name": "stdout",
     "output_type": "stream",
     "text": [
      "[' 123czk', '$45.67', '€999.99']\n"
     ]
    }
   ],
   "source": [
    "text = \"Zaplatil jsem 123czk za oběd, $45.67 za večeři a €999.99 za nový telefon.\"\n",
    "\n",
    "## regex který najde častý v těchto formátech \n",
    "\n",
    "import re \n",
    "\n",
    "patern = re.compile(r\"(\\W\\d+\\.?\\d+\\w*|\\d+\\.?\\d+\\w*)\")\n",
    "\n",
    "match = patern.findall(text)\n",
    "\n",
    "print(match)\n",
    "\n"
   ]
  },
  {
   "cell_type": "code",
   "execution_count": 43,
   "metadata": {},
   "outputs": [
    {
     "name": "stdout",
     "output_type": "stream",
     "text": [
      "['https://example.com', 'http://example.cz', 'www.example.org']\n"
     ]
    }
   ],
   "source": [
    "import re \n",
    "\n",
    "text = \"Navštivte https://example.com nebo http://example.cz pro více informací. Můžete také zkusit www.example.org.\"\n",
    "\n",
    "\n",
    "patern = re.compile(r\"https?://\\w+\\.\\w+|\\w+.\\.\\w+\\.\\w+\")\n",
    "\n",
    "match = patern.findall(text)\n",
    "\n",
    "print(match)\n"
   ]
  },
  {
   "cell_type": "code",
   "execution_count": 49,
   "metadata": {},
   "outputs": [
    {
     "name": "stdout",
     "output_type": "stream",
     "text": [
      "['21/', '07/', '2023 ', '2024-', '08-', '15.']\n"
     ]
    },
    {
     "data": {
      "text/plain": [
       "'21/07/2023 2024-08-15'"
      ]
     },
     "execution_count": 49,
     "metadata": {},
     "output_type": "execute_result"
    }
   ],
   "source": [
    "text = \"Dne 21/07/2023 jsme měli schůzku, ale termín se změnil na 2024-08-15.\"\n",
    "\n",
    "\n",
    "import re \n",
    "\n",
    "patern = re.compile(r\"(\\d+\\W+)\")\n",
    "\n",
    "match = patern.findall(text)\n",
    "print(match)\n",
    "\n",
    "n_match = \",\".join(match)\n",
    "n_match.replace(\",\", \"\").replace(\".\",\"\")\n"
   ]
  },
  {
   "cell_type": "code",
   "execution_count": 50,
   "metadata": {},
   "outputs": [
    {
     "name": "stdout",
     "output_type": "stream",
     "text": [
      "['is', 'test', 'duplicate']\n"
     ]
    }
   ],
   "source": [
    "\n",
    "\n",
    "import re\n",
    "\n",
    "text = \"This is is a test test text with duplicate duplicate words.\"\n",
    "\n",
    "# Regex pro vyhledání duplikovaných slov\n",
    "regex = r\"\\b(\\w+)\\b\\s+\\b\\1\\b\"\n",
    "\n",
    "matches = re.findall(regex, text)\n",
    "print(matches)\n",
    "\n",
    "\n"
   ]
  },
  {
   "cell_type": "markdown",
   "metadata": {},
   "source": [
    "\\b: Značí hranici slova (začátek nebo konec slova).\n",
    "(\\w+): Zachytí jakékoli slovo složené z alfanumerických znaků (slovo je uloženo do první zachycující skupiny \\1).\n",
    "\\s+: Odpovídá jednomu nebo více mezerám mezi slovy.\n",
    "\\b\\1\\b: Značí opakování prvního zachyceného slova díky odkazu \\1."
   ]
  }
 ],
 "metadata": {
  "kernelspec": {
   "display_name": "Python 3",
   "language": "python",
   "name": "python3"
  },
  "language_info": {
   "codemirror_mode": {
    "name": "ipython",
    "version": 3
   },
   "file_extension": ".py",
   "mimetype": "text/x-python",
   "name": "python",
   "nbconvert_exporter": "python",
   "pygments_lexer": "ipython3",
   "version": "3.12.3"
  }
 },
 "nbformat": 4,
 "nbformat_minor": 2
}
