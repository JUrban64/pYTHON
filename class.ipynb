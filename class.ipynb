{
 "cells": [
  {
   "cell_type": "code",
   "execution_count": 25,
   "metadata": {},
   "outputs": [
    {
     "name": "stdout",
     "output_type": "stream",
     "text": [
      "1\n",
      "ahoj\n",
      "svete\n"
     ]
    }
   ],
   "source": [
    "class Myclass: \n",
    "    a,b,c = 1,2,3 \n",
    "\n",
    "Myclass.a \n",
    "\n",
    "print(Myclass.a)\n",
    "mc1 = Myclass()\n",
    "\n",
    "mc1.a = \"ahoj\" ## todle už je potomek \n",
    "\n",
    "print(mc1.a)\n",
    "\n",
    "Myclass.a = \"svete\"\n",
    "\n",
    "mc2 = Myclass() ## další dítě už dědí nové věci \n",
    "print(mc2.a) "
   ]
  },
  {
   "cell_type": "markdown",
   "metadata": {},
   "source": [
    "- Instance druhé třídy"
   ]
  },
  {
   "cell_type": "code",
   "execution_count": 31,
   "metadata": {},
   "outputs": [
    {
     "name": "stdout",
     "output_type": "stream",
     "text": [
      "1\n",
      "[2, 3]\n",
      "ahoj\n",
      "[2, 3]\n"
     ]
    }
   ],
   "source": [
    "class Nclass: \n",
    "    a,b = 1, [2,3]\n",
    "mc1 = Nclass()\n",
    "print(mc1.a)\n",
    "print(mc1.b)\n",
    "\n",
    "mc1.b = \"ahoj\"\n",
    "print(mc1.b)\n",
    "print(Nclass.b)\n",
    "\n",
    "\n"
   ]
  },
  {
   "cell_type": "code",
   "execution_count": 36,
   "metadata": {},
   "outputs": [
    {
     "name": "stdout",
     "output_type": "stream",
     "text": [
      "[2, 3]\n",
      "[2, 3, 4]\n",
      "[2, 3, 4]\n",
      "[2, 3, 4]\n",
      "ahoj\n"
     ]
    }
   ],
   "source": [
    "class Myclass:\n",
    "    a,b = 1, [2,3]\n",
    "\n",
    "mc1 = Myclass()\n",
    "mc1.b = \"ahoj\"\n",
    "\n",
    "\n",
    "mc2 = Myclass()\n",
    "print(mc2.b)\n",
    "\n",
    "mc3 = Myclass()\n",
    "mc3.b \n",
    "\n",
    "mc2.b.append(4) # to jsou vecí \n",
    "\n",
    "print(mc2.b) # apendoval jsem do ditětě a promitl jsem to všude  \n",
    "print(mc3.b) \n",
    "print(Myclass.b)\n",
    "print(mc1.b)\n",
    "###\n",
    "###"
   ]
  },
  {
   "cell_type": "markdown",
   "metadata": {},
   "source": [
    "Je to nějakym způsobem dáno tím, že se pohybují v měnitelném datovém typu\n",
    "tím pádem se změny objevují všude \n"
   ]
  },
  {
   "cell_type": "markdown",
   "metadata": {},
   "source": [
    "FUnkce ajko atribut třídy I"
   ]
  },
  {
   "cell_type": "code",
   "execution_count": 1,
   "metadata": {},
   "outputs": [
    {
     "name": "stdout",
     "output_type": "stream",
     "text": [
      "AHOJ\n"
     ]
    },
    {
     "ename": "TypeError",
     "evalue": "T.fn() takes 1 positional argument but 2 were given",
     "output_type": "error",
     "traceback": [
      "\u001b[0;31m---------------------------------------------------------------------------\u001b[0m",
      "\u001b[0;31mTypeError\u001b[0m                                 Traceback (most recent call last)",
      "\u001b[1;32m/Users/jachymurban/Desktop/Python_SKR/class.ipynb buňka 7\u001b[0m line \u001b[0;36m1\n\u001b[1;32m     <a href='vscode-notebook-cell:/Users/jachymurban/Desktop/Python_SKR/class.ipynb#W6sZmlsZQ%3D%3D?line=9'>10</a>\u001b[0m T\u001b[39m.\u001b[39mfn(\u001b[39m\"\u001b[39m\u001b[39mnazdar\u001b[39m\u001b[39m\"\u001b[39m)\n\u001b[1;32m     <a href='vscode-notebook-cell:/Users/jachymurban/Desktop/Python_SKR/class.ipynb#W6sZmlsZQ%3D%3D?line=12'>13</a>\u001b[0m t \u001b[39m=\u001b[39m T()\n\u001b[0;32m---> <a href='vscode-notebook-cell:/Users/jachymurban/Desktop/Python_SKR/class.ipynb#W6sZmlsZQ%3D%3D?line=14'>15</a>\u001b[0m t\u001b[39m.\u001b[39;49mfn(\u001b[39m\"\u001b[39;49m\u001b[39mpojeb\u001b[39;49m\u001b[39m\"\u001b[39;49m)\n",
      "\u001b[0;31mTypeError\u001b[0m: T.fn() takes 1 positional argument but 2 were given"
     ]
    }
   ],
   "source": [
    "class T: \n",
    "\n",
    "    A = \"AHOJ\" \n",
    "\n",
    "    def fn(x):\n",
    "        return f\"hola: fn({x})\"\n",
    "\n",
    "print(T.A)\n",
    "\n",
    "T.fn(\"nazdar\")\n",
    "\n",
    "\n",
    "t = T()\n",
    "\n",
    "# t.fn(\"pojeb\") todle hazí eror, nelze udělat t = T()\n"
   ]
  },
  {
   "cell_type": "code",
   "execution_count": 2,
   "metadata": {},
   "outputs": [
    {
     "data": {
      "text/plain": [
       "'zavolej: fn(<__main__.T object at 0x11288a960>, 222)'"
      ]
     },
     "execution_count": 2,
     "metadata": {},
     "output_type": "execute_result"
    }
   ],
   "source": [
    "# jinak \n",
    "\n",
    "class T: \n",
    "\n",
    "    a = \"ahoj\"\n",
    "\n",
    "    def fn(x,y): \n",
    "        return f\"zavolej: fn({x}, {y})\"\n",
    "    \n",
    "t = T()\n",
    "\n",
    "t.fn(\"222\")\n",
    "\n",
    "# Aha, takže funkce na instanci (neboli tedy metoda instance) dostane jako první parametr referenci na tuto instanci. Nezvyklé, ale dává to smysl asi tak stejně dobře, jako automagické objevování se této reference v podobě klíčového slova this v jiných jazycích.\n"
   ]
  },
  {
   "cell_type": "code",
   "execution_count": 4,
   "metadata": {},
   "outputs": [
    {
     "data": {
      "text/plain": [
       "'zavolej: fn(baff, zmrde)'"
      ]
     },
     "execution_count": 4,
     "metadata": {},
     "output_type": "execute_result"
    }
   ],
   "source": [
    "# ještě jinak \n",
    "\n",
    "class T: \n",
    "\n",
    "    a = \"ahoj\"\n",
    "\n",
    "    def fn(x,y): \n",
    "        return f\"zavolej: fn({x}, {y})\"\n",
    "    \n",
    "T.fn(\"baff\", \"zmrde\")\n"
   ]
  },
  {
   "cell_type": "markdown",
   "metadata": {},
   "source": [
    "# jak je to se self asi "
   ]
  },
  {
   "cell_type": "code",
   "execution_count": 5,
   "metadata": {},
   "outputs": [
    {
     "data": {
      "text/plain": [
       "'zavolano: fn(<__main__.T object at 0x112856990>, 222)'"
      ]
     },
     "execution_count": 5,
     "metadata": {},
     "output_type": "execute_result"
    }
   ],
   "source": [
    "class T: \n",
    "\n",
    "    a = \"ahoj\"\n",
    "\n",
    "    def fn(self,y): \n",
    "        return f\"zavolano: fn({self}, {y})\"\n",
    "    \n",
    "t = T()\n",
    "\n",
    "t.fn(\"222\")\n",
    "## self je neviditlené a umožunuje použit dedičnost bez předchozích chyb\n"
   ]
  },
  {
   "cell_type": "markdown",
   "metadata": {},
   "source": [
    "Emulce typu record, nvm zda to k nečemu bude"
   ]
  },
  {
   "cell_type": "code",
   "execution_count": null,
   "metadata": {},
   "outputs": [],
   "source": [
    "class Emplo: \n",
    "    pass\n",
    "\n",
    "\n",
    "jan = Emplo()\n",
    "\n",
    "jan.jméno = \"jan novak\"\n",
    "jan.vek = 61 \n",
    "jan.zamestnanec = \"čR\"\n",
    "\n"
   ]
  },
  {
   "cell_type": "markdown",
   "metadata": {},
   "source": [
    "Další příklad"
   ]
  },
  {
   "cell_type": "code",
   "execution_count": 10,
   "metadata": {},
   "outputs": [
    {
     "name": "stdout",
     "output_type": "stream",
     "text": [
      "<class '__main__.Clovek'>\n",
      "<function Clovek.identifikace at 0x112926d40>\n",
      "dobrý den, jemnuji se jachym\n"
     ]
    }
   ],
   "source": [
    "class Clovek: \n",
    "    \n",
    "    def identifikace(self): \n",
    "        return \"dobrý den, jemnuji se jachym\"\n",
    "    \n",
    "print(Clovek)\n",
    "print(Clovek.identifikace)\n",
    "#<class '__main__.Clovek'>\n",
    "#<function Clovek.identifikace at 0x112eb99e0>\n",
    "\n",
    "jachym = Clovek()\n",
    "\n",
    "print(jachym.identifikace()) ## vytvoření metody identifikace, která funguje skrze tu class \n",
    "\n",
    "# print(Clovek.identifikace()) Clovek.identifikace() missing 1 required positional argument: 'self'\n"
   ]
  },
  {
   "cell_type": "markdown",
   "metadata": {},
   "source": [
    "Při zavolání této metody ve výše uvedeném tvaru jachym.identifikace() se tak vlastně ve skutečnosti volá kód Člověk.identifikace(jachym)."
   ]
  },
  {
   "cell_type": "markdown",
   "metadata": {},
   "source": [
    "# inicilazace atribitu"
   ]
  },
  {
   "cell_type": "code",
   "execution_count": 14,
   "metadata": {},
   "outputs": [
    {
     "data": {
      "text/plain": [
       "'nevim'"
      ]
     },
     "execution_count": 14,
     "metadata": {},
     "output_type": "execute_result"
    }
   ],
   "source": [
    "class person: \n",
    "\n",
    "\n",
    "    def __init__(self, jmeno, datum_narození, krevn_Skupina): ## init zajištuje, že každa nova instance bude obsahovat hodnoty, které pošleme do třídního paramteru\n",
    "        self.jmeno = jmeno \n",
    "        self.datum_narození = datum_narození\n",
    "        self.krevn_Skupina = krevn_Skupina \n",
    "\n",
    "jachym = person(\n",
    "    \"jachym urban\",\n",
    "    \"25.05.2000\",\n",
    "    \"nevim\",\n",
    ")\n",
    "\n",
    "jachym.jmeno \n",
    "jachym.krevn_Skupina"
   ]
  },
  {
   "cell_type": "markdown",
   "metadata": {},
   "source": [
    "V tomto příkladu je metoda `__init__` speciální metoda třídy `person`, která slouží k inicializaci nové instance třídy. Když vytvoříš novou instanci třídy, například `jachym = person(...)`, metoda `__init__` je automaticky zavolána a přiřadí hodnoty argumentů (`jmeno`, `datum_narození`, `krevn_Skupina`) příslušným vlastnostem (atributům) této instance pomocí `self`.\n",
    "\n",
    "Podrobněji:\n",
    "\n",
    "- `__init__(self, jmeno, datum_narození, krevn_Skupina)`:\n",
    "  - `self` je odkaz na instanci, která se právě vytváří. Díky němu můžeme přistupovat k proměnným a metodám, které se budou vztahovat ke konkrétní instanci.\n",
    "  - Argumenty `jmeno`, `datum_narození`, a `krevn_Skupina` jsou hodnoty, které při vytváření nové instance předáš do metody `__init__`.\n",
    "\n",
    "- `self.jmeno = jmeno`: \n",
    "  - Vytváří atribut instance `jmeno` a přiřazuje mu hodnotu, kterou uživatel předá při vytváření instance.\n",
    "\n",
    "V tvém případě:\n",
    "\n",
    "```python\n",
    "jachym = person(\n",
    "    \"jachym urban\",\n",
    "    \"25.05.2000\",\n",
    "    \"nevim\",\n",
    ")\n",
    "```\n",
    "\n",
    "Při vytvoření objektu `jachym` se automaticky zavolá metoda `__init__`, která uloží jméno \"jachym urban\", datum narození \"25.05.2000\" a krevní skupinu \"nevim\" do atributů `jachym.jmeno`, `jachym.datum_narození` a `jachym.krevn_Skupina`.\n",
    "\n",
    "Když pak zavoláš `jachym.jmeno`, vrátí ti to řetězec `\"jachym urban\"`, a při zavolání `jachym.krevn_Skupina` dostaneš `\"nevim\"`."
   ]
  },
  {
   "cell_type": "markdown",
   "metadata": {},
   "source": [
    "Dědičnost "
   ]
  },
  {
   "cell_type": "code",
   "execution_count": 20,
   "metadata": {},
   "outputs": [
    {
     "name": "stdout",
     "output_type": "stream",
     "text": [
      "info o pepovi\n",
      "Jmeno: pepa, chodí do 2, jeho celková přůměrná znamka je 1.5\n"
     ]
    }
   ],
   "source": [
    "class person: \n",
    "\n",
    "\n",
    "    def __init__(self, jmeno, datum_narození, krevn_Skupina):\n",
    "        self.jmeno = jmeno \n",
    "        self.datum_narození = datum_narození\n",
    "        self.krevn_Skupina = krevn_Skupina \n",
    "\n",
    "\n",
    "class Kid(person):  ## kid ma stejné atributy jako person \n",
    "\n",
    "    def __init__(self, jmeno, datum_narození, krevn_Skupina, třída, předmenty): \n",
    "        person.__init__(self, jmeno, datum_narození, krevn_Skupina) ## nadřazené třídy s příslušnými paramterty se musejí zavolat sami \n",
    "        self.třída = třída \n",
    "        self.předmenty = předmenty \n",
    "    \n",
    "    def prumerna_znamka(self): \n",
    "        součet = 0 \n",
    "        for předmet in self.předmenty: \n",
    "            součet += self.předmenty[předmet]\n",
    "        return součet/ len(self.předmenty)\n",
    "\n",
    "\n",
    "\n",
    "pepa = Kid( ## dostaváa atributy person a kid a ješte v této tříde je zavedená funkce pruměrná znamka \n",
    "    \"pepa\",\n",
    "    \"24.2\",\n",
    "    \"0\",\n",
    "    \"2\",\n",
    "    {\"matematika\": 1 , \"zemak\": 2}\n",
    ")\n",
    "\n",
    "pepa.prumerna_znamka()\n",
    "\n",
    "\n",
    "print(\"info o pepovi\")\n",
    "\n",
    "print(f\"Jmeno: {pepa.jmeno}, chodí do {pepa.třída}, jeho celková přůměrná znamka je {pepa.prumerna_znamka()}\")\n",
    "    \n",
    "## ještě lze nějakym způsobem dodat volaní skrze super(kid), jakože superior, ale asi až bude potřeba \n",
    "        \n",
    "\n"
   ]
  },
  {
   "cell_type": "markdown",
   "metadata": {},
   "source": [
    "### třídení atribtutů "
   ]
  },
  {
   "cell_type": "code",
   "execution_count": null,
   "metadata": {},
   "outputs": [],
   "source": [
    "# to asi si najdu až to bude potřeba"
   ]
  }
 ],
 "metadata": {
  "kernelspec": {
   "display_name": "Python 3",
   "language": "python",
   "name": "python3"
  },
  "language_info": {
   "codemirror_mode": {
    "name": "ipython",
    "version": 3
   },
   "file_extension": ".py",
   "mimetype": "text/x-python",
   "name": "python",
   "nbconvert_exporter": "python",
   "pygments_lexer": "ipython3",
   "version": "3.12.3"
  }
 },
 "nbformat": 4,
 "nbformat_minor": 2
}
