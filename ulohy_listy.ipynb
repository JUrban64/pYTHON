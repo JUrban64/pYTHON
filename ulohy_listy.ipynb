{
 "cells": [
  {
   "cell_type": "markdown",
   "metadata": {},
   "source": [
    "Vraťte součet všech prvků v seznamu zadaném jako argument funkce."
   ]
  },
  {
   "cell_type": "code",
   "execution_count": 8,
   "metadata": {},
   "outputs": [
    {
     "name": "stdout",
     "output_type": "stream",
     "text": [
      "3\n"
     ]
    }
   ],
   "source": [
    "szn = [1,2,3,4]\n",
    "\n",
    "\n",
    "def sum4list(sez):\n",
    "    for i in sez: \n",
    "        k = i + (i + 1)\n",
    "        return k\n",
    "    return sum4list\n",
    "\n",
    "print(sum4list(szn))\n",
    "\n",
    "\n",
    "\n"
   ]
  },
  {
   "cell_type": "markdown",
   "metadata": {},
   "source": [
    "ja potřebuju aby vzal i, udělal novy loop vzal tedy i+1, to sečetl, udělal vysledek a ktomu přečel"
   ]
  },
  {
   "cell_type": "code",
   "execution_count": 23,
   "metadata": {},
   "outputs": [
    {
     "data": {
      "text/plain": [
       "24"
      ]
     },
     "execution_count": 23,
     "metadata": {},
     "output_type": "execute_result"
    }
   ],
   "source": [
    "szn = [1,2,3,5,3,2,1,2,3,2]\n",
    "\n",
    "def secti(x): \n",
    "    szn1 = []\n",
    "    for i in x: \n",
    "        szn1.append(i)\n",
    "    return sum(szn1)\n",
    "\n",
    "secti(szn)\n"
   ]
  },
  {
   "cell_type": "markdown",
   "metadata": {},
   "source": [
    "ZNAMENÁČKOVA VERZE "
   ]
  },
  {
   "cell_type": "code",
   "execution_count": 24,
   "metadata": {},
   "outputs": [
    {
     "name": "stdout",
     "output_type": "stream",
     "text": [
      "[1, 2, 3, 1, 2, 1, 2, 4, 6, 2]\n",
      "24\n"
     ]
    }
   ],
   "source": [
    "def secti(xs):\n",
    "  ret = 0\n",
    "  for x in xs:\n",
    "    ret += x\n",
    "  return ret\n",
    " \n",
    "# ukázkové zadání\n",
    "xs = [1, 2, 3, 1, 2, 1, 2, 4, 6, 2,]\n",
    " \n",
    "print(xs)\n",
    "print( secti(xs) )"
   ]
  },
  {
   "cell_type": "markdown",
   "metadata": {},
   "source": [
    "To že to funguje je celkme krejzi "
   ]
  },
  {
   "cell_type": "markdown",
   "metadata": {},
   "source": [
    " Vypište zadaný seznam v opačném pořadí bez použití metody reverse()."
   ]
  },
  {
   "cell_type": "code",
   "execution_count": 54,
   "metadata": {},
   "outputs": [
    {
     "name": "stdout",
     "output_type": "stream",
     "text": [
      "[1, 2, 3]\n"
     ]
    }
   ],
   "source": [
    "xs = [1,2,3]\n",
    "k = []\n",
    "l = []\n",
    "for i in xs: \n",
    "   k.append(i)\n",
    "   \n",
    "\n",
    "k[-1:]\n",
    "print(k)\n"
   ]
  },
  {
   "cell_type": "code",
   "execution_count": 58,
   "metadata": {},
   "outputs": [
    {
     "name": "stdout",
     "output_type": "stream",
     "text": [
      "[2, 1]\n"
     ]
    }
   ],
   "source": [
    "xd = [1,2,3 ]\n",
    "\n",
    "print(xd[::-1])"
   ]
  },
  {
   "cell_type": "markdown",
   "metadata": {},
   "source": [
    "jede od konce, protože s"
   ]
  },
  {
   "cell_type": "markdown",
   "metadata": {},
   "source": [
    "Předstírejte na chvíli, že neumíte pracovat s výjimkami, a smažte ze seznamu všechny výskyty zadaného prvku."
   ]
  },
  {
   "cell_type": "code",
   "execution_count": 61,
   "metadata": {},
   "outputs": [
    {
     "name": "stdout",
     "output_type": "stream",
     "text": [
      "[1, 2, 4]\n"
     ]
    }
   ],
   "source": [
    "xs = [1,2,3,3,4]\n",
    "\n",
    "nechi = 3  \n",
    "xd = []\n",
    "for i in xs: \n",
    "    if i != nechi: \n",
    "        xd.append(i)\n",
    "print(xd)\n",
    "\n",
    "\n"
   ]
  },
  {
   "cell_type": "markdown",
   "metadata": {},
   "source": [
    " Napište fukci, která bere jako první argument seznam celých čísel xs a jako druhý jedno celé číslo y. Výstupem funkce je seznam ys obsahující ta čísla z xs, která jsou větší než y.\n",
    "Ukázka: f([1,2,3,1,2,1,2,4,6,2], 3) => [4,6]"
   ]
  },
  {
   "cell_type": "code",
   "execution_count": 62,
   "metadata": {},
   "outputs": [
    {
     "data": {
      "text/plain": [
       "[3, 4, 5]"
      ]
     },
     "execution_count": 62,
     "metadata": {},
     "output_type": "execute_result"
    }
   ],
   "source": [
    "xd = [1,2,3,4,5]\n",
    "\n",
    "def bigger(xs, y ): \n",
    "    ys = []\n",
    "    for i in xs: \n",
    "        if i > y: \n",
    "            ys.append(i)\n",
    "    return ys \n",
    "\n",
    "bigger(xd,2)"
   ]
  },
  {
   "cell_type": "markdown",
   "metadata": {},
   "source": [
    "Napište fukci, která bere jako argument seznam celých čísel xs a vrací seznam ys, ve kterém jsou odstraněny všechny duplikáty prvků v seznamu xs.\n",
    "Ukázka: f([1,2,3,1,2,1,2,4,6,2]) => [1,2,3,4,6]"
   ]
  },
  {
   "cell_type": "code",
   "execution_count": 71,
   "metadata": {},
   "outputs": [
    {
     "data": {
      "text/plain": [
       "[1, 2, 3, 4, 5]"
      ]
     },
     "execution_count": 71,
     "metadata": {},
     "output_type": "execute_result"
    }
   ],
   "source": [
    "xd = [1,2,3,3,4,5]\n",
    "\n",
    "def r_dup (xs):\n",
    "    ys = []\n",
    "    for i in xs: \n",
    "        if i not in ys:  # pokdu není v ys tak ho tam dej, takže pokud tam je už ho tam nedá \n",
    "            ys.append(i)\n",
    "    return ys \n",
    "\n",
    "r_dup(xd)\n",
    "    "
   ]
  },
  {
   "cell_type": "markdown",
   "metadata": {},
   "source": [
    "Napište fukci, která bere jako první argument seznam celých čísel xs a jako druhý jedno celé číslo y. Výstupem funkce je seznam všech pozic prvku y v seznamu xs."
   ]
  },
  {
   "cell_type": "code",
   "execution_count": 77,
   "metadata": {},
   "outputs": [
    {
     "data": {
      "text/plain": [
       "[0, 1]"
      ]
     },
     "execution_count": 77,
     "metadata": {},
     "output_type": "execute_result"
    }
   ],
   "source": [
    "xf = [1,1,2,2,3]\n",
    "\n",
    "def find_pozice(xs,y):\n",
    "    xv = []\n",
    "    for pozice,num in enumerate(xs):\n",
    "        if num == y: \n",
    "            xv.append(pozice)\n",
    "    return xv \n",
    "\n",
    "find_pozice(xf,1)\n"
   ]
  },
  {
   "cell_type": "markdown",
   "metadata": {},
   "source": [
    "Už mi to moc nemyslí, ale dava to smysl "
   ]
  },
  {
   "cell_type": "markdown",
   "metadata": {},
   "source": [
    "Napište fukci, která bere jako argument seznam celých čísel xs a vrací ten prvek, který je jako první roven svému následovníkovi. Neexistuje-li takový prvek, vrací None.\n"
   ]
  },
  {
   "cell_type": "code",
   "execution_count": 105,
   "metadata": {},
   "outputs": [
    {
     "data": {
      "text/plain": [
       "1"
      ]
     },
     "execution_count": 105,
     "metadata": {},
     "output_type": "execute_result"
    }
   ],
   "source": [
    "# Znamenáček \n",
    "\n",
    "xd = [1,1,2,3,3,4] \n",
    "\n",
    "def f(xs):\n",
    "    předchozí_prvek = None\n",
    "    for x in xs:\n",
    "        if x == předchozí_prvek:\n",
    "            return x\n",
    "        předchozí_prvek = x\n",
    "    return None\n",
    "f(xd)"
   ]
  },
  {
   "cell_type": "markdown",
   "metadata": {},
   "source": [
    " Napište fukci, která bere jako argument seznam celých čísel xs a vrací seznam takových prvků z xs, které jsou rovny svým následovníkům."
   ]
  },
  {
   "cell_type": "code",
   "execution_count": 1,
   "metadata": {},
   "outputs": [
    {
     "data": {
      "text/plain": [
       "[1, 2, 3]"
      ]
     },
     "execution_count": 1,
     "metadata": {},
     "output_type": "execute_result"
    }
   ],
   "source": [
    "xg = [1,1,2,2,3,3,4,3]\n",
    "\n",
    "\n",
    "def doubles(xs):\n",
    "    ret = []\n",
    "    i = 0\n",
    "    for x in xs:\n",
    "        if i+1 < len(xs) and x == xs[i+1]:\n",
    "            ret.append(x)\n",
    "        i = i + 1\n",
    "    return ret\n",
    " \n",
    "doubles(xg)\n",
    "    "
   ]
  },
  {
   "cell_type": "code",
   "execution_count": 6,
   "metadata": {},
   "outputs": [
    {
     "name": "stdout",
     "output_type": "stream",
     "text": [
      "[1, 3]\n"
     ]
    }
   ],
   "source": [
    "xg = [1,1,2,3,3,4,3]\n",
    "np = []\n",
    "for i in range(len(xg)-1):  ## musim iterovat o jedno min, protože kdybych dal len(xg), tak následně iteruju do posledního a porovnávám s neexisutjcím prvkem \n",
    "    if xg[i] == xg[i + 1]: \n",
    "        np.append(xg[i])\n",
    "\n",
    "print(np)"
   ]
  },
  {
   "cell_type": "markdown",
   "metadata": {},
   "source": [
    "V Pythonu mají hranaté závorky `[]` několik využití, které se liší podle kontextu, ve kterém se používají. Níže je uveden seznam nejčastějších využití hranatých závorek:\n",
    "\n",
    "### 1. **Vytvoření seznamu (list)**\n",
    "   Hranaté závorky se používají k vytváření seznamů, což jsou datové struktury, které mohou obsahovat různé typy hodnot, přičemž tyto hodnoty jsou uspořádány v určitém pořadí.\n",
    "   ```python\n",
    "   my_list = [1, 2, 3, 4]  # Seznam čísel\n",
    "   mixed_list = [1, \"Hello\", 3.14, True]  # Seznam s různými typy\n",
    "   ```\n",
    "\n",
    "### 2. **Indexování (přístup k prvkům seznamu, řetězce, n-tic apod.)**\n",
    "   Pomocí hranatých závorek lze přistupovat k jednotlivým prvkům seznamů, řetězců, n-tic a dalších sekvenčních typů.\n",
    "   ```python\n",
    "   my_list = [10, 20, 30, 40]\n",
    "   print(my_list[0])  # Přístup k prvnímu prvku, výstup: 10\n",
    "   my_string = \"Python\"\n",
    "   print(my_string[1])  # Přístup k druhému znaku řetězce, výstup: 'y'\n",
    "   ```\n",
    "\n",
    "### 3. **Slicing (výřezy)**\n",
    "   Hranaté závorky se používají pro slicing, tedy výřez části seznamu, řetězce nebo jiné sekvence.\n",
    "   ```python\n",
    "   my_list = [10, 20, 30, 40, 50]\n",
    "   print(my_list[1:4])  # Výřez od indexu 1 do 3 (výstup: [20, 30, 40])\n",
    "   ```\n",
    "\n",
    "   Slicing může obsahovat tři parametry: `start:end:step`:\n",
    "   ```python\n",
    "   print(my_list[::2])  # Každý druhý prvek, výstup: [10, 30, 50]\n",
    "   ```\n",
    "\n",
    "### 4. **Vytvoření prázdného seznamu**\n",
    "   Hranaté závorky bez obsahu vytvoří prázdný seznam.\n",
    "   ```python\n",
    "   empty_list = []\n",
    "   ```\n",
    "\n",
    "### 5. **Vytvoření list comprehension**\n",
    "   Hranaté závorky se používají v **list comprehension**, což je způsob, jak vytvářet seznamy na základě jiného iterovatelného objektu pomocí krátké syntaxe.\n",
    "   ```python\n",
    "   squares = [x**2 for x in range(5)]  # Výstup: [0, 1, 4, 9, 16]\n",
    "   ```\n",
    "\n",
    "### 6. **Použití s `dict` pro přístup k hodnotám podle klíče**\n",
    "   U slovníků (`dict`) se hranaté závorky používají k přístupu k hodnotám na základě klíče.\n",
    "   ```python\n",
    "   my_dict = {'name': 'Anna', 'age': 30}\n",
    "   print(my_dict['name'])  # Výstup: 'Anna'\n",
    "   ```\n",
    "\n",
    "### 7. **Aktualizace hodnot ve slovníku**\n",
    "   Pomocí hranatých závorek lze aktualizovat hodnoty ve slovníku.\n",
    "   ```python\n",
    "   my_dict['age'] = 31  # Změna hodnoty klíče 'age'\n",
    "   ```\n",
    "\n",
    "### 8. **Vytvoření víceúrovňových struktur**\n",
    "   Hranaté závorky mohou být vnořeny do sebe, což umožňuje vytvoření víceúrovňových struktur, jako jsou seznamy seznamů.\n",
    "   ```python\n",
    "   matrix = [[1, 2, 3], [4, 5, 6], [7, 8, 9]]\n",
    "   print(matrix[1][2])  # Výstup: 6 (druhý řádek, třetí prvek)\n",
    "   ```\n",
    "\n",
    "### 9. **Použití s `set` pro přístup k hodnotám není možné**\n",
    "   Hranaté závorky **nelze** použít pro přístup k prvkům množin (`set`), protože množiny nejsou indexovatelné.\n",
    "\n",
    "### 10. **Použití v anotacích (type annotations)**\n",
    "   Hranaté závorky lze použít při anotacích typů v Pythonu (od verze 3.5 a výše), například při označování typů seznamů a n-tic.\n",
    "   ```python\n",
    "   from typing import List, Tuple\n",
    "   def func(xs: List[int]) -> Tuple[int, int]:\n",
    "       return xs[0], xs[1]\n",
    "   ```\n",
    "\n",
    "### 11. **Použití v knihovnách (např. `numpy`, `pandas`)**\n",
    "   Hranaté závorky se hojně používají v knihovnách, jako jsou `numpy` nebo `pandas`, pro přístup k datům a jejich manipulaci.\n",
    "   - U `numpy`:\n",
    "     ```python\n",
    "     import numpy as np\n",
    "     arr = np.array([1, 2, 3, 4])\n",
    "     print(arr[1:3])  # Výřez numpy pole\n",
    "     ```\n",
    "   - U `pandas`:\n",
    "     ```python\n",
    "     import pandas as pd\n",
    "     df = pd.DataFrame({'A': [1, 2, 3], 'B': [4, 5, 6]})\n",
    "     print(df['A'])  # Přístup ke sloupci pomocí názvu\n",
    "     ```\n",
    "\n",
    "### 12. **Použití pro přístup k prvkům v n-tici v `for` smyčce (rozbalování hodnot)**\n",
    "   V Pythonu lze pomocí hranatých závorek rozbalovat hodnoty z n-tic nebo seznamů.\n",
    "   ```python\n",
    "   points = [(1, 2), (3, 4)]\n",
    "   for x, y in points:\n",
    "       print(x, y)\n",
    "   ```\n",
    "\n",
    "### Shrnutí:\n",
    "Hranaté závorky `[]` se v Pythonu používají pro řadu úloh, od vytváření seznamů a přístupu k prvkům až po více pokročilé věci jako list comprehension a anotace typů. Funkcionalita se liší v závislosti na kontextu a typu dat, se kterými pracuješ."
   ]
  }
 ],
 "metadata": {
  "kernelspec": {
   "display_name": "Python 3",
   "language": "python",
   "name": "python3"
  },
  "language_info": {
   "codemirror_mode": {
    "name": "ipython",
    "version": 3
   },
   "file_extension": ".py",
   "mimetype": "text/x-python",
   "name": "python",
   "nbconvert_exporter": "python",
   "pygments_lexer": "ipython3",
   "version": "3.12.3"
  }
 },
 "nbformat": 4,
 "nbformat_minor": 2
}
